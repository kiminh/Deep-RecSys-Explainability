{
 "cells": [
  {
   "cell_type": "markdown",
   "metadata": {},
   "source": [
    "Import Dependencies\n",
    "-"
   ]
  },
  {
   "cell_type": "code",
   "execution_count": 678,
   "metadata": {},
   "outputs": [],
   "source": [
    "import pandas as pd\n",
    "from sklearn.preprocessing import LabelEncoder, MinMaxScaler\n",
    "from sklearn.model_selection import train_test_split\n",
    "from deepctr.models import DeepFM\n",
    "from deepctr.feature_column import SparseFeat, DenseFeat,get_feature_names\n",
    "\n",
    "from sklearn.metrics import log_loss, roc_auc_score\n",
    "from sklearn.metrics import mean_squared_error\n",
    "import matplotlib.pyplot as plt\n",
    "from matplotlib.pyplot import figure\n",
    "import matplotlib\n",
    "\n",
    "import time\n",
    "import sys\n",
    "\n",
    "import tensorflow as tf\n",
    "from tensorflow.python.keras.models import  save_model,load_model\n",
    "from tensorflow.keras import layers\n",
    "from deepctr.layers import custom_objects\n",
    "\n",
    "import numpy as np\n",
    "import math\n",
    "from collections import deque\n",
    "import random\n",
    "import heapq"
   ]
  },
  {
   "cell_type": "markdown",
   "metadata": {},
   "source": [
    "Define Synthetic Model\n",
    "-"
   ]
  },
  {
   "cell_type": "code",
   "execution_count": 653,
   "metadata": {
    "scrolled": true
   },
   "outputs": [
    {
     "data": {
      "text/plain": [
       "1"
      ]
     },
     "execution_count": 653,
     "metadata": {},
     "output_type": "execute_result"
    }
   ],
   "source": [
    "#Synthetic model to be used as an objective ground truth measure of explainability, using feature instability as a proxy  \n",
    "def query_synth_model(node):\n",
    "    point = node.position\n",
    "    if (1/9*point[0]**4) + (point[1]**4) < 3:\n",
    "        return 1\n",
    "    else:\n",
    "        return 0\n",
    "        \n",
    "source_node = Node(np.asarray([0,0]), 0) #Position, Distance to source_node\n",
    "query_synth_model(source_node)"
   ]
  },
  {
   "cell_type": "markdown",
   "metadata": {},
   "source": [
    "Generate Training Data\n",
    "-"
   ]
  },
  {
   "cell_type": "code",
   "execution_count": 654,
   "metadata": {
    "scrolled": false
   },
   "outputs": [
    {
     "data": {
      "text/plain": [
       "(1000, 2)"
      ]
     },
     "execution_count": 654,
     "metadata": {},
     "output_type": "execute_result"
    },
    {
     "data": {
      "image/png": "[encoded data removed]",
      "text/plain": [
       "<Figure size 360x360 with 1 Axes>"
      ]
     },
     "metadata": {
      "needs_background": "light"
     },
     "output_type": "display_data"
    }
   ],
   "source": [
    "#Create \"training data\" to use for calculating feat_ranges to infer search step sizes\n",
    "fig, ax = plt.subplots(figsize = (5, 5))\n",
    "#plt.ylim(-2,2)\n",
    "#plt.xlim(-2,2)\n",
    "\n",
    "nfeats = 2\n",
    "dense_features = np.arange(nfeats)\n",
    "data = []\n",
    "labels = []\n",
    "nsamp = 1000\n",
    "for _ in range(nsamp):\n",
    "    point = np.random.uniform(low=-4, high=4, size=(nfeats,))\n",
    "    node = Node(point, None)\n",
    "    rec = query_synth_model(node)\n",
    "    data.append(point)\n",
    "    labels.append(rec)\n",
    "    \n",
    "    if rec == 1:\n",
    "        plt.plot(point[0],point[1],'bo')\n",
    "    else:\n",
    "        plt.plot(point[0],point[1],'r+')\n",
    "\n",
    "data = pd.DataFrame(data)\n",
    "data.shape"
   ]
  },
  {
   "cell_type": "code",
   "execution_count": 656,
   "metadata": {
    "scrolled": true
   },
   "outputs": [
    {
     "name": "stdout",
     "output_type": "stream",
     "text": [
      "(2, 1)\n"
     ]
    },
    {
     "data": {
      "text/plain": [
       "array([[7.04577361],\n",
       "       [6.92088375]])"
      ]
     },
     "execution_count": 656,
     "metadata": {},
     "output_type": "execute_result"
    }
   ],
   "source": [
    "def get_num_range(data, dense_features):\n",
    "    #Returns (range) of values for each I1-I13 integer features\n",
    "    num_data_distrib = []\n",
    "    for feat in dense_features:\n",
    "        feature = data[feat]\n",
    "        #num_data_distrib.append([feature.min(), feature.max(), np.std(feature), feature.mean()])\n",
    "        #num_data_distrib.append([feature.min(), feature.max(), feature.max() - feature.min()])\n",
    "        #num_data_distrib.append([feature.max() - feature.min()])\n",
    "        num_data_distrib.append([3 * np.std(feature)]) #Range contains 99.7% of samples in training data\n",
    "    \n",
    "    return np.asarray(num_data_distrib)\n",
    "    \n",
    "feat_ranges = get_num_range(data, dense_features)\n",
    "print(feat_ranges.shape)\n",
    "feat_ranges"
   ]
  },
  {
   "cell_type": "code",
   "execution_count": 235,
   "metadata": {},
   "outputs": [],
   "source": [
    "class Node:\n",
    "    def __init__(self, position, distance):\n",
    "        \n",
    "        #Position list([row, column])\n",
    "        self.position = position # [n1, n2, ..., n|N|]\n",
    "        self.distance = distance #Distance for evaluation function to compare nodes in priority queue\n",
    "        \n",
    "  # Nodes with the same distance\n",
    "    def __eq__(self, other):\n",
    "        return isinstance(other, Node) and self.distance == other.distance\n",
    "  \n",
    "    # Node is less than other node\n",
    "    def __lt__(self, other):\n",
    "        return isinstance(other, Node) and self.distance < other.distance\n",
    "\n",
    "    # Node is greater than other node\n",
    "    def __gt__(self, other):\n",
    "        return isinstance(other, Node) and self.distance > other.distance"
   ]
  },
  {
   "cell_type": "code",
   "execution_count": 972,
   "metadata": {
    "scrolled": false
   },
   "outputs": [],
   "source": [
    "def get_distance(source_node, query_node, feat_scaler, distance='Manhattan'):\n",
    "    #returns distance for ndim feature space\n",
    "    \n",
    "    dif = query_node.position - source_node.position\n",
    "    scaled_dif = (dif / feat_scaler)[0]\n",
    "    \n",
    "    # More efficient at scale\n",
    "    if distance == 'Manhattan':\n",
    "        return sum(abs(scaled_dif))\n",
    "    \n",
    "    if distance == 'Euclidean':\n",
    "        dsum = 0\n",
    "        for feat in dif:\n",
    "            dsum += feat**2\n",
    "        return math.sqrt(dsum)\n",
    "\n",
    "    \n",
    "def generate_unit_vectors(nfeats,nvectors=1):\n",
    "\n",
    "    #np.random.seed(3)\n",
    "    vectors = []\n",
    "    for _ in range(nvectors):\n",
    "        v = np.random.uniform(low=-1, high=1, size=(nfeats,))\n",
    "        v_hat = v / np.linalg.norm(v)\n",
    "        vectors.append(v_hat)\n",
    "    return vectors\n",
    "\n",
    "\n",
    "def generate_precursor_solutions(source_node, feat_ranges, k=20, nsteps=6, plot_search=False):\n",
    "\n",
    "    step_sizes = (feat_ranges/nsteps) #How large of a step to take for each respective int feature\n",
    "    feat_scaler = 1/np.asarray(feat_ranges) #Scale to normalize feature step size when calculating distance\n",
    "    \n",
    "    #Normalized step size for searching every feature\n",
    "    feat_steps = []\n",
    "    for feat in range(len(feat_ranges)):\n",
    "        feat_steps.append(np.arange(step_sizes[feat],feat_ranges[feat],step_sizes[feat]))\n",
    "    feat_steps = np.asarray(feat_steps)\n",
    "    \n",
    "    source_rec = query_synth_model(source_node)\n",
    "    \n",
    "    if plot_search:\n",
    "        plt.plot(source_node.position[0],source_node.position[1],'r+')\n",
    "\n",
    "    discovered = []\n",
    "\n",
    "    while len(discovered) < k:\n",
    "        unit_vector = generate_unit_vectors(len(source_node.position))[0]\n",
    "        for step in range(nsteps-1):\n",
    "            scaled_vector_position = np.asarray(unit_vector * feat_steps.T[step] + source_node.position)\n",
    "            scaled_vector = Node(scaled_vector_position, None)\n",
    "            query_rec = query_synth_model(scaled_vector)\n",
    "            \n",
    "            if plot_search:\n",
    "                if query_rec == source_rec:\n",
    "                    color = 'bo'\n",
    "                else:\n",
    "                    color = 'y^'\n",
    "                plt.plot(scaled_vector.position[0],scaled_vector.position[1],color)\n",
    "            \n",
    "            if source_rec != query_rec:\n",
    "                # distance heuristic\n",
    "                scaled_vector.distance = get_distance(source_node, scaled_vector, feat_scaler)\n",
    "                discovered.append(scaled_vector)\n",
    "                break\n",
    "    \n",
    "    return discovered"
   ]
  },
  {
   "cell_type": "code",
   "execution_count": 840,
   "metadata": {
    "scrolled": true
   },
   "outputs": [],
   "source": [
    "#TODO: Adapative gradient to make largest jumps in k-closest solutions in beginning, then lower over time\n",
    "\n",
    "def find_adjs(node, feat_scaler, learning_rate):\n",
    "    #Returns all nodes adjacent to current solution in ndim feature space\n",
    "    \n",
    "    adj_nodes = []\n",
    "    pos = node.position\n",
    "    for dim in range(len(pos)):\n",
    "        #Check if dim is a missing value, as marked in cat_dims_to_emb()\n",
    "        if pos[dim] != None:\n",
    "            temp = pos.copy().astype(float)\n",
    "            temp[dim] += learning_rate / feat_scaler[dim]\n",
    "            adj_nodes.append(Node(temp, None))\n",
    "            temp = pos.copy().astype(float)\n",
    "            temp[dim] -= learning_rate / feat_scaler[dim]\n",
    "            adj_nodes.append(Node(temp, None))\n",
    "    return adj_nodes\n",
    "\n",
    "\n",
    "# If the query_node is too close to an existing solution, it is omitted to encourage discovery of new\n",
    "# territory along the decision boundary\n",
    "def neighboring_solution(discovered, query_node, neighborhood_size, feat_scaler):\n",
    "\n",
    "    for solution in discovered:\n",
    "        distance = get_distance(solution, query_node, feat_scaler)\n",
    "        if distance < neighborhood_size:\n",
    "            return True\n",
    "    \n",
    "    return False\n",
    "\n",
    "\n",
    "#A* without clustering constraint\n",
    "def a_star_search(source_node, prelim_discovered, feat_ranges, k=100, learning_rate=0.25):\n",
    "    \n",
    "    #Analytics to inform how to handle degree of branching\n",
    "    nodes_generated = 0\n",
    "    nodes_visited = 0\n",
    "    \n",
    "    frontier = [] # Priority Queue\n",
    "    discovered = [] #Vector of k-closest feature interactions to opposite recommendation\n",
    "    visited = {} # True corresponds to visited for low complexity \"visited\" search\n",
    "    \n",
    "    #Add solutions from uniformly distributed vectors to priority queue (frontier)\n",
    "    for soln_node in prelim_discovered:\n",
    "        heapq.heappush(frontier, soln_node)\n",
    "        nodes_generated += 1\n",
    "        \n",
    "    #Scale to normalize learning rate for each feature\n",
    "    feat_scaler = 1/np.asarray(feat_ranges)\n",
    "    \n",
    "    source_rec = query_synth_model(source_node) #rec value to be explained\n",
    "     \n",
    "    # loop till queue is empty, or k solutions were discovered\n",
    "    #TODO: Want to define stop criteria based on no solutions approaching center\n",
    "    while frontier and len(discovered) < k:\n",
    " \n",
    "        # dequeue front node\n",
    "        query_node = heapq.heappop(frontier)\n",
    "        #print(node, end=' ')\n",
    "        nodes_visited += 1\n",
    "        \n",
    "        #Check goal state\n",
    "        query_rec = query_synth_model(query_node)\n",
    "        if query_rec != source_rec:\n",
    "            #Do not use solution if previous discovered is in close neigborhood\n",
    "            if not neighboring_solution(discovered, query_node, learning_rate, feat_scaler):\n",
    "                discovered.append(query_node)\n",
    "                visited[tuple(query_node.position)] = True\n",
    "                #print(\"soln:\",query_node.position)\n",
    "                print(len(discovered),end=' ')\n",
    "                \n",
    " \n",
    "        #Add adjacents to priority queue before visiting them\n",
    "        adjs = find_adjs(query_node, feat_ranges, learning_rate) #every node adjacent to the current node\n",
    "        for adj_node in adjs:\n",
    "            \n",
    "            in_bfet = True\n",
    "            for i in range(len(adj_node.position)):\n",
    "                if adj_node.position[i] >= feat_ranges[i] or adj_node.position[i] <= -1*feat_ranges[i]:\n",
    "                    in_bfet = False\n",
    "            \n",
    "            if in_bfet and tuple(adj_node.position) not in visited.keys():\n",
    "                \n",
    "                adj_node.distance = get_distance(source_node, adj_node, feat_scaler)\n",
    "                heapq.heappush(frontier, adj_node)\n",
    "                visited[tuple(adj_node.position)] = True\n",
    "                nodes_generated += 1\n",
    "    \n",
    "    print(\"Nodes Visited:\",nodes_visited)\n",
    "    print(\"Nodes Generated:\",nodes_generated)\n",
    "    print(\"Visited Length:\",len(visited))\n",
    "\n",
    "    return discovered"
   ]
  },
  {
   "cell_type": "markdown",
   "metadata": {},
   "source": [
    "----"
   ]
  },
  {
   "cell_type": "code",
   "execution_count": 971,
   "metadata": {},
   "outputs": [],
   "source": [
    "# Puts solution node into a n-way feature interaction cluster\n",
    "def cluster_feat_int(node, solution_clusters, feat_scaler, max_cluster_size):\n",
    "    \n",
    "    scaled_feats = node.position * feat_scaler[0] #Scales features to same scale of distance\n",
    "    f_max = np.argmax(abs(scaled_feats)) #Most dominant feature in solution\n",
    "    f_ratios = np.zeros(len(feat_ranges)) #Marks which feature interaction was expressed by the node position\n",
    "    \n",
    "    #Loop through each feature of a single solution, and determine degree of multi-feature interaction\n",
    "    for f_i in range(len(scaled_feats)):\n",
    "        \n",
    "        if abs(scaled_feats[f_max]/scaled_feats[f_i]) <= 2:\n",
    "            if scaled_feats[f_i] > 0:\n",
    "                f_ratios[f_i] = 1\n",
    "            else:\n",
    "                f_ratios[f_i] = -1\n",
    "                        \n",
    "    if tuple(f_ratios) not in solution_clusters:\n",
    "        solution_clusters[tuple(f_ratios)] = []\n",
    "    #Add solution to cluster if f_ratios isn't overrepresented in solution_clusters\n",
    "    full_cluster = False\n",
    "    if len(solution_clusters[tuple(f_ratios)]) < max_cluster_size:\n",
    "        solution_clusters[tuple(f_ratios)].append(node.position)\n",
    "        #print('  CFI',node.position)\n",
    "        \n",
    "    else:\n",
    "        full_cluster = True\n",
    "    \n",
    "    return solution_clusters, full_cluster"
   ]
  },
  {
   "cell_type": "code",
   "execution_count": 970,
   "metadata": {
    "scrolled": true
   },
   "outputs": [],
   "source": [
    "def sort_solution_clusters(solution_clusters,source_node,feat_scaler):\n",
    "    \n",
    "    all_distances = []\n",
    "    for key in solution_clusters:\n",
    "        total_distance = []\n",
    "        for soln in solution_clusters[key]:\n",
    "            distance = get_distance(source_node, Node(soln,None), feat_scaler)\n",
    "            total_distance.append(distance)\n",
    "        all_distances.append(np.sort(total_distance))\n",
    "        #print(key,':',(solution_clusters[key] * np.asarray(key)).mean())\n",
    "        \n",
    "    sorted_clusters = []\n",
    "    i = 0\n",
    "    for key in solution_clusters:\n",
    "        min_sample = all_distances[i].min()\n",
    "        sorted_clusters.append((min_sample,key))\n",
    "        i+=1\n",
    "    np.asarray(sorted_clusters).sort(axis=0)\n",
    "    \n",
    "    return sorted_clusters"
   ]
  },
  {
   "cell_type": "code",
   "execution_count": 969,
   "metadata": {
    "scrolled": false
   },
   "outputs": [],
   "source": [
    "def display_instability(sorted_clusters):\n",
    "    x = [str(feat_interaction[1]) for feat_interaction in sorted_clusters]\n",
    "    energy = [1/feat_interaction[0] for feat_interaction in sorted_clusters]\n",
    "    variance = [0 for _ in x]\n",
    "\n",
    "    x_pos = [i for i, _ in enumerate(x)]\n",
    "\n",
    "    plt.bar(x_pos, energy, color='blue', yerr=variance)\n",
    "    plt.xlabel(\"Feature Interaction\")\n",
    "    plt.ylabel(\"Feature Instability \\n(1/Distance from Source to Alternate Rec)\")\n",
    "    plt.title(\"Instability of Feature Interactions \\n in Recommending <Source Node>\")\n",
    "\n",
    "    plt.xticks(x_pos, x)\n",
    "\n",
    "    font = {'weight' : 'bold',\n",
    "            'size'   : 12}\n",
    "\n",
    "    #matplotlib.rc('font', **font)\n",
    "\n",
    "    #plt.rcParams[\"figure.figsize\"] = (5,5)\n",
    "    #plt.rcParams[\"figure.figsize\"] = plt.rcParamsDefault[\"figure.figsize\"]\n",
    "    plt.show()"
   ]
  },
  {
   "cell_type": "code",
   "execution_count": 973,
   "metadata": {
    "scrolled": true
   },
   "outputs": [],
   "source": [
    "#A* with solution cluster tracking\n",
    "# k = number of total opposite rec solutions\n",
    "def a_star_search(source_node, prelim_discovered, feat_ranges, k=100, learning_rate=1, max_cluster_size=100):\n",
    "    \n",
    "    #Analytics to inform how to handle degree of branching\n",
    "    nodes_generated = 0\n",
    "    nodes_visited = 0\n",
    "    \n",
    "    frontier = [] # Priority Queue\n",
    "    discovered = [] #Vector of k-closest feature interactions to opposite recommendation... redundant with solution_clusters{} now\n",
    "    visited = {} # True corresponds to visited for low complexity \"visited\" search\n",
    "    solution_clusters = {} #Feature-interaction clusters of shortest path solutions\n",
    "    \n",
    "    #Add solutions from uniformly distributed vectors to priority queue (frontier)\n",
    "    for soln_node in prelim_discovered:\n",
    "        heapq.heappush(frontier, soln_node)\n",
    "        nodes_generated += 1\n",
    "        \n",
    "    #Scale to normalize learning rate for each feature\n",
    "    feat_scaler = 1/np.asarray(feat_ranges)\n",
    "    \n",
    "    source_rec = query_synth_model(source_node) #rec value to be explained\n",
    "     \n",
    "    # loop till queue is empty, or k solutions were discovered\n",
    "    #TODO: Want to define stop criteria based on no solutions approaching center\n",
    "    while frontier and len(discovered) < k:\n",
    " \n",
    "        # dequeue front node to determine if its a solution, and find its adjacents\n",
    "        query_node = heapq.heappop(frontier)\n",
    "        #print(node, end=' ')\n",
    "        nodes_visited += 1\n",
    "        \n",
    "        #Check goal state, and adds to solutions cluster if so\n",
    "        full_cluster = False #Flag indicating if this feature-interaction should continue being searched\n",
    "        query_rec = query_synth_model(query_node)\n",
    "        if query_rec != source_rec:\n",
    "            #Do not use solution if previous discovered is in close neigborhood\n",
    "            if not neighboring_solution(discovered, query_node, learning_rate, feat_scaler):\n",
    "                visited[tuple(query_node.position)] = True\n",
    "                #print(\"soln:\",query_node.position)\n",
    "                #Add node to soln cluster if not already full\n",
    "                solution_clusters, full_cluster = cluster_feat_int(query_node, solution_clusters, feat_scaler, max_cluster_size)\n",
    "                if not full_cluster:\n",
    "                    discovered.append(query_node)\n",
    "                    print(len(discovered),end=' ')\n",
    " \n",
    "        #Add adjacents to priority queue before visiting them\n",
    "        adjs = find_adjs(query_node, feat_ranges, learning_rate) #every node adjacent to the current node\n",
    "        for adj_node in adjs:\n",
    "            \n",
    "            #Checks if generated adjacent node position is within reasonable values\n",
    "            in_bfet = True\n",
    "            for i in range(len(adj_node.position)):\n",
    "                if adj_node.position[i] >= feat_ranges[i] or adj_node.position[i] <= -1*feat_ranges[i]:\n",
    "                    in_bfet = False\n",
    "            \n",
    "            #Add adj_node to priority queue to be checked later, with its given distance to the source\n",
    "            if in_bfet and not full_cluster and tuple(adj_node.position) not in visited.keys():\n",
    "                adj_node.distance = get_distance(source_node, adj_node, feat_scaler)\n",
    "                heapq.heappush(frontier, adj_node)\n",
    "                visited[tuple(adj_node.position)] = True\n",
    "                nodes_generated += 1\n",
    "    \n",
    "    print(\"Nodes Visited:\",nodes_visited)\n",
    "    print(\"Nodes Generated:\",nodes_generated)\n",
    "    print(\"Visited Length:\",len(visited))\n",
    "\n",
    "    return discovered, solution_clusters"
   ]
  },
  {
   "cell_type": "code",
   "execution_count": 975,
   "metadata": {},
   "outputs": [
    {
     "name": "stdout",
     "output_type": "stream",
     "text": [
      "1 2 3 4 5 6 7 8 9 10 11 12 13 14 15 16 17 18 19 20 21 22 23 24 25 26 27 28 29 30 31 32 33 34 35 36 37 38 39 40 41 42 43 44 45 46 47 48 49 50 Nodes Visited: 24670\n",
      "Nodes Generated: 33703\n",
      "Visited Length: 33508\n",
      "1 2 3 4 5 6 7 8 9 10 11 12 13 14 15 16 17 18 19 20 21 22 23 24 25 26 27 28 29 30 31 32 33 34 35 36 37 38 39 40 Nodes Visited: 11583\n",
      "Nodes Generated: 11583\n",
      "Visited Length: 11583\n"
     ]
    }
   ],
   "source": [
    "source_node = Node(np.asarray([0,-1]), 0) #Position, Distance to source_node\n",
    "feat_ranges = get_num_range(data, dense_features)\n",
    "feat_scaler = 1/np.asarray(feat_ranges)\n",
    "\n",
    "prelim_discovered = generate_precursor_solutions(source_node, feat_ranges, plot_search=False, nsteps=10, k=25)\n",
    "mid_discovered,solution_clusters = a_star_search(source_node, discovered, feat_ranges, learning_rate=10, k=50)\n",
    "refined_discovered,solution_clusters = a_star_search(source_node, mid_discovered, feat_ranges, k=50, learning_rate=0.5, max_cluster_size=5)"
   ]
  },
  {
   "cell_type": "code",
   "execution_count": 982,
   "metadata": {
    "scrolled": false
   },
   "outputs": [
    {
     "data": {
      "image/png": "[encoded data removed]",
      "text/plain": [
       "<Figure size 864x864 with 1 Axes>"
      ]
     },
     "metadata": {
      "needs_background": "light"
     },
     "output_type": "display_data"
    }
   ],
   "source": [
    "#plt.rcParams[\"figure.figsize\"] = (12,12)\n",
    "sorted_clusters = sort_solution_clusters(solution_clusters,source_node,feat_scaler)\n",
    "display_instability(sorted_clusters)"
   ]
  },
  {
   "cell_type": "code",
   "execution_count": null,
   "metadata": {},
   "outputs": [],
   "source": []
  },
  {
   "cell_type": "code",
   "execution_count": 974,
   "metadata": {
    "scrolled": false
   },
   "outputs": [
    {
     "name": "stdout",
     "output_type": "stream",
     "text": [
      "Dark Blue: Initial Search\n",
      "Light Blue: A* High Learning Rate Search\n",
      "Red: A* Low Refined Learning Rate Search\n"
     ]
    },
    {
     "data": {
      "image/png": "[encoded data removed]",
      "text/plain": [
       "<Figure size 864x864 with 1 Axes>"
      ]
     },
     "metadata": {
      "needs_background": "light"
     },
     "output_type": "display_data"
    }
   ],
   "source": [
    "#Display solutions of GD-FETS using discovered list\n",
    "def plot_solutions(source_node, discovered,color_index=0):\n",
    "    colors = ['bD','gD','rD','cD','kD','mD','yD','b*','g+']\n",
    "    plt.plot(source_node.position[0],source_node.position[1],'r+')\n",
    "    for point in discovered:\n",
    "        plt.plot(point.position[0],point.position[1],colors[color_index])\n",
    "\n",
    "plot_solutions(source_node, refined_discovered,color_index=2)      \n",
    "plot_solutions(source_node, mid_discovered,color_index=3)\n",
    "plot_solutions(source_node, prelim_discovered,color_index=0)\n",
    "print(\"Dark Blue: Initial Search\")\n",
    "print(\"Light Blue: A* High Learning Rate Search\")\n",
    "print(\"Red: A* Low Refined Learning Rate Search\")"
   ]
  },
  {
   "cell_type": "code",
   "execution_count": 967,
   "metadata": {
    "scrolled": false
   },
   "outputs": [
    {
     "name": "stdout",
     "output_type": "stream",
     "text": [
      "(0.0, -1.0) : bD\n",
      "(-1.0, -1.0) : gD\n",
      "(1.0, -1.0) : rD\n",
      "(-1.0, 0.0) : cD\n",
      "(1.0, 0.0) : kD\n",
      "(0.0, 1.0) : mD\n",
      "(1.0, 1.0) : yD\n",
      "(-1.0, 1.0) : b*\n"
     ]
    },
    {
     "data": {
      "image/png": "[encoded data removed]",
      "text/plain": [
       "<Figure size 864x864 with 1 Axes>"
      ]
     },
     "metadata": {
      "needs_background": "light"
     },
     "output_type": "display_data"
    }
   ],
   "source": [
    "#Display solutions of GD-FETS using solution_clusters\n",
    "plt.plot(source_node.position[0],source_node.position[1],'r+')\n",
    "i=0\n",
    "for cluster in solution_clusters:\n",
    "    print(cluster,':',colors[i])\n",
    "    for point in solution_clusters[cluster]:\n",
    "        plt.plot(point[0],point[1],colors[i])\n",
    "    i+=1"
   ]
  },
  {
   "cell_type": "markdown",
   "metadata": {},
   "source": [
    "TODO:\n",
    "-\n",
    "- Generate Ground Truth (GT) evaluation model with manufactured decision boundary surrounding source node, to provide a GT of explainability as defined by the function that creates the search space. This function will be used to compare the accuracy of GD-FETS to LIME. It should build the decision boundary given input parameters of which feature interactions should have what degree of instability.\n",
    "- Implement LIME/SHAP to give comparison of their performance using a Ground Truth decision boundary, to that of GD-FETS\n",
    "- Implement one-way feature-interaction for GD-FETS for direct comparison to LIME\n",
    "- T-tests to demonstrate signifiance of GD-FETS identifying the same feature interactions as expreesed in the GT explanation --> Only shortest distance is logical, as the average would be impacted by search bias artefacts... can show this once solutions hug the decision boundary in each solution cluster\n",
    "\n",
    "----\n",
    "- Adjust abstract to provide brief intro on importance of deep recsys/DNN explainability, followed by a majority of key features of GD-FETS\n",
    "- Describe evaluation methodology in manuscript, and describe results\n",
    "- Would like to do: Use T-SNE to project categorical embedding vectors from 4 dimension to 2 (reduce complexity of search space), can also collapse the dimensionality to a single dimension, although => information loss\n",
    "- Use generators to dynamically create one-hot encoding labels for training embedding inversion models, for features with very large dictionary sizes, due to memory constraints\n",
    "- Future Direction: Implement reinforcement learning agent to repalce the A* search engine, as RL policy can learn the most common explanability for a given model and feature values, which can be leveraged fro search.\n",
    "\n",
    "Prev:\n",
    "-\n",
    "- Set limit of q solutions found per multi-way feature interaction, after finding k solutions with high learning rate\n",
    "- find_adjs() to take certain step size based on learning rate\n",
    "- Reject the generation of an adjacent node if it is too close to an existing solution, such that local maxima aren't overrepresented, giving a chance to find global maxima for a given feature-interaction cluster\n",
    "- Implement solutions clustering method for identifying which multi-way feature interaction a sample is expressing\n",
    "- Implement method to display the magnitude of instability for top-k feature interactions\n",
    "- Use 2-3 Std devs of each feature of training data as feat_range for data distribution to ignore outliers that would cause certain features to be traversed with too large a step size\n",
    "\n",
    "Rejected Ideas\n",
    "-\n",
    "- Set limit of k solutions found per multi-way feature interaction, such that after k solutions in a single feature-interaction cluster are found, every node in the priority queue that is a member of that cluster is removed, so that only other feature-interaction clusters are searched. =>  > k*(top_n_feat_ints_desired) must be identified --> How else to prevent the overwelming redundance of the single closest feature interaction in explaining a recommendation/prediction? --> Answer: larger learning rate s.t. more areas are covered, but this leads to less specificity near decision boundary of optimal positions\n",
    "- Modify find_adjs() to only generate adjacents in direction of source node, to reduce memory complexity of frontier priority queue"
   ]
  },
  {
   "cell_type": "markdown",
   "metadata": {},
   "source": []
  },
  {
   "cell_type": "code",
   "execution_count": null,
   "metadata": {},
   "outputs": [],
   "source": []
  }
 ],
 "metadata": {
  "kernelspec": {
   "display_name": "Python 3",
   "language": "python",
   "name": "python3"
  },
  "language_info": {
   "codemirror_mode": {
    "name": "ipython",
    "version": 3
   },
   "file_extension": ".py",
   "mimetype": "text/x-python",
   "name": "python",
   "nbconvert_exporter": "python",
   "pygments_lexer": "ipython3",
   "version": "3.7.6"
  }
 },
 "nbformat": 4,
 "nbformat_minor": 4
}
