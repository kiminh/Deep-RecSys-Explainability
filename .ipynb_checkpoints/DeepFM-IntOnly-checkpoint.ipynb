{
 "cells": [
  {
   "cell_type": "code",
   "execution_count": 471,
   "metadata": {},
   "outputs": [],
   "source": [
    "import pandas as pd\n",
    "from sklearn.preprocessing import LabelEncoder, MinMaxScaler\n",
    "from sklearn.model_selection import train_test_split\n",
    "from deepctr.models import DeepFM\n",
    "from deepctr.feature_column import SparseFeat, DenseFeat,get_feature_names\n",
    "\n",
    "from sklearn.metrics import log_loss, roc_auc_score\n",
    "from sklearn.metrics import mean_squared_error\n",
    "import matplotlib.pyplot as plt\n",
    "\n",
    "import time\n",
    "\n",
    "import tensorflow as tf\n",
    "from tensorflow.python.keras.models import  save_model,load_model\n",
    "from tensorflow.keras import layers\n",
    "from deepctr.layers import custom_objects\n",
    "\n",
    "import numpy as np\n",
    "import math\n",
    "from collections import deque\n",
    "import random\n",
    "import heapq"
   ]
  },
  {
   "cell_type": "markdown",
   "metadata": {},
   "source": [
    "Load Data\n",
    "---"
   ]
  },
  {
   "cell_type": "code",
   "execution_count": 604,
   "metadata": {},
   "outputs": [
    {
     "name": "stdout",
     "output_type": "stream",
     "text": [
      "Loading Time: 18.40217089653015\n",
      "Shape: (3000000, 40)\n"
     ]
    },
    {
     "data": {
      "text/html": [
       "<div>\n",
       "<style scoped>\n",
       "    .dataframe tbody tr th:only-of-type {\n",
       "        vertical-align: middle;\n",
       "    }\n",
       "\n",
       "    .dataframe tbody tr th {\n",
       "        vertical-align: top;\n",
       "    }\n",
       "\n",
       "    .dataframe thead th {\n",
       "        text-align: right;\n",
       "    }\n",
       "</style>\n",
       "<table border=\"1\" class=\"dataframe\">\n",
       "  <thead>\n",
       "    <tr style=\"text-align: right;\">\n",
       "      <th></th>\n",
       "      <th>label</th>\n",
       "      <th>I1</th>\n",
       "      <th>I2</th>\n",
       "      <th>I3</th>\n",
       "      <th>I4</th>\n",
       "      <th>I5</th>\n",
       "      <th>I6</th>\n",
       "      <th>I7</th>\n",
       "      <th>I8</th>\n",
       "      <th>I9</th>\n",
       "      <th>I10</th>\n",
       "      <th>I11</th>\n",
       "      <th>I12</th>\n",
       "      <th>I13</th>\n",
       "      <th>C1</th>\n",
       "      <th>C2</th>\n",
       "      <th>C3</th>\n",
       "      <th>C4</th>\n",
       "      <th>C5</th>\n",
       "      <th>C6</th>\n",
       "      <th>C7</th>\n",
       "      <th>C8</th>\n",
       "      <th>C9</th>\n",
       "      <th>C10</th>\n",
       "      <th>C11</th>\n",
       "      <th>C12</th>\n",
       "      <th>C13</th>\n",
       "      <th>C14</th>\n",
       "      <th>C15</th>\n",
       "      <th>C16</th>\n",
       "      <th>C17</th>\n",
       "      <th>C18</th>\n",
       "      <th>C19</th>\n",
       "      <th>C20</th>\n",
       "      <th>C21</th>\n",
       "      <th>C22</th>\n",
       "      <th>C23</th>\n",
       "      <th>C24</th>\n",
       "      <th>C25</th>\n",
       "      <th>C26</th>\n",
       "    </tr>\n",
       "  </thead>\n",
       "  <tbody>\n",
       "    <tr>\n",
       "      <th>0</th>\n",
       "      <td>0</td>\n",
       "      <td>1.0</td>\n",
       "      <td>1</td>\n",
       "      <td>5.0</td>\n",
       "      <td>0.0</td>\n",
       "      <td>1382.0</td>\n",
       "      <td>4.0</td>\n",
       "      <td>15.0</td>\n",
       "      <td>2.0</td>\n",
       "      <td>181.0</td>\n",
       "      <td>1.0</td>\n",
       "      <td>2.0</td>\n",
       "      <td>0.0</td>\n",
       "      <td>2.0</td>\n",
       "      <td>604</td>\n",
       "      <td>268</td>\n",
       "      <td>848553</td>\n",
       "      <td>132728</td>\n",
       "      <td>43</td>\n",
       "      <td>7</td>\n",
       "      <td>10058</td>\n",
       "      <td>79</td>\n",
       "      <td>2</td>\n",
       "      <td>29947</td>\n",
       "      <td>3564</td>\n",
       "      <td>158090</td>\n",
       "      <td>474</td>\n",
       "      <td>4</td>\n",
       "      <td>5888</td>\n",
       "      <td>285899</td>\n",
       "      <td>9</td>\n",
       "      <td>4253</td>\n",
       "      <td>249</td>\n",
       "      <td>3</td>\n",
       "      <td>19417</td>\n",
       "      <td>0</td>\n",
       "      <td>3</td>\n",
       "      <td>57441</td>\n",
       "      <td>69</td>\n",
       "      <td>30715</td>\n",
       "    </tr>\n",
       "    <tr>\n",
       "      <th>1</th>\n",
       "      <td>0</td>\n",
       "      <td>2.0</td>\n",
       "      <td>0</td>\n",
       "      <td>44.0</td>\n",
       "      <td>1.0</td>\n",
       "      <td>102.0</td>\n",
       "      <td>8.0</td>\n",
       "      <td>2.0</td>\n",
       "      <td>2.0</td>\n",
       "      <td>4.0</td>\n",
       "      <td>1.0</td>\n",
       "      <td>1.0</td>\n",
       "      <td>0.0</td>\n",
       "      <td>4.0</td>\n",
       "      <td>604</td>\n",
       "      <td>514</td>\n",
       "      <td>375982</td>\n",
       "      <td>70110</td>\n",
       "      <td>43</td>\n",
       "      <td>18</td>\n",
       "      <td>6686</td>\n",
       "      <td>23</td>\n",
       "      <td>2</td>\n",
       "      <td>7715</td>\n",
       "      <td>1540</td>\n",
       "      <td>278311</td>\n",
       "      <td>2629</td>\n",
       "      <td>17</td>\n",
       "      <td>9756</td>\n",
       "      <td>418883</td>\n",
       "      <td>0</td>\n",
       "      <td>3043</td>\n",
       "      <td>249</td>\n",
       "      <td>1</td>\n",
       "      <td>243203</td>\n",
       "      <td>0</td>\n",
       "      <td>3</td>\n",
       "      <td>19648</td>\n",
       "      <td>69</td>\n",
       "      <td>23237</td>\n",
       "    </tr>\n",
       "    <tr>\n",
       "      <th>2</th>\n",
       "      <td>0</td>\n",
       "      <td>2.0</td>\n",
       "      <td>0</td>\n",
       "      <td>1.0</td>\n",
       "      <td>14.0</td>\n",
       "      <td>767.0</td>\n",
       "      <td>89.0</td>\n",
       "      <td>4.0</td>\n",
       "      <td>2.0</td>\n",
       "      <td>245.0</td>\n",
       "      <td>1.0</td>\n",
       "      <td>3.0</td>\n",
       "      <td>3.0</td>\n",
       "      <td>45.0</td>\n",
       "      <td>219</td>\n",
       "      <td>25</td>\n",
       "      <td>9426</td>\n",
       "      <td>208134</td>\n",
       "      <td>43</td>\n",
       "      <td>7</td>\n",
       "      <td>9042</td>\n",
       "      <td>23</td>\n",
       "      <td>2</td>\n",
       "      <td>10480</td>\n",
       "      <td>1858</td>\n",
       "      <td>407308</td>\n",
       "      <td>2102</td>\n",
       "      <td>2</td>\n",
       "      <td>4660</td>\n",
       "      <td>112485</td>\n",
       "      <td>6</td>\n",
       "      <td>876</td>\n",
       "      <td>0</td>\n",
       "      <td>0</td>\n",
       "      <td>575361</td>\n",
       "      <td>11</td>\n",
       "      <td>3</td>\n",
       "      <td>17088</td>\n",
       "      <td>0</td>\n",
       "      <td>0</td>\n",
       "    </tr>\n",
       "    <tr>\n",
       "      <th>3</th>\n",
       "      <td>0</td>\n",
       "      <td>0.0</td>\n",
       "      <td>893</td>\n",
       "      <td>0.0</td>\n",
       "      <td>0.0</td>\n",
       "      <td>4392.0</td>\n",
       "      <td>0.0</td>\n",
       "      <td>0.0</td>\n",
       "      <td>0.0</td>\n",
       "      <td>0.0</td>\n",
       "      <td>0.0</td>\n",
       "      <td>0.0</td>\n",
       "      <td>0.0</td>\n",
       "      <td>0.0</td>\n",
       "      <td>604</td>\n",
       "      <td>96</td>\n",
       "      <td>572327</td>\n",
       "      <td>49409</td>\n",
       "      <td>43</td>\n",
       "      <td>18</td>\n",
       "      <td>2155</td>\n",
       "      <td>23</td>\n",
       "      <td>2</td>\n",
       "      <td>42827</td>\n",
       "      <td>4544</td>\n",
       "      <td>461549</td>\n",
       "      <td>656</td>\n",
       "      <td>2</td>\n",
       "      <td>1003</td>\n",
       "      <td>172219</td>\n",
       "      <td>1</td>\n",
       "      <td>1995</td>\n",
       "      <td>0</td>\n",
       "      <td>0</td>\n",
       "      <td>268935</td>\n",
       "      <td>0</td>\n",
       "      <td>3</td>\n",
       "      <td>41965</td>\n",
       "      <td>0</td>\n",
       "      <td>0</td>\n",
       "    </tr>\n",
       "    <tr>\n",
       "      <th>4</th>\n",
       "      <td>0</td>\n",
       "      <td>3.0</td>\n",
       "      <td>-1</td>\n",
       "      <td>0.0</td>\n",
       "      <td>0.0</td>\n",
       "      <td>2.0</td>\n",
       "      <td>0.0</td>\n",
       "      <td>3.0</td>\n",
       "      <td>0.0</td>\n",
       "      <td>0.0</td>\n",
       "      <td>1.0</td>\n",
       "      <td>1.0</td>\n",
       "      <td>0.0</td>\n",
       "      <td>0.0</td>\n",
       "      <td>785</td>\n",
       "      <td>381</td>\n",
       "      <td>675033</td>\n",
       "      <td>267410</td>\n",
       "      <td>43</td>\n",
       "      <td>2</td>\n",
       "      <td>7919</td>\n",
       "      <td>23</td>\n",
       "      <td>2</td>\n",
       "      <td>14642</td>\n",
       "      <td>4560</td>\n",
       "      <td>290726</td>\n",
       "      <td>2935</td>\n",
       "      <td>4</td>\n",
       "      <td>6063</td>\n",
       "      <td>3466</td>\n",
       "      <td>1</td>\n",
       "      <td>659</td>\n",
       "      <td>0</td>\n",
       "      <td>0</td>\n",
       "      <td>84436</td>\n",
       "      <td>0</td>\n",
       "      <td>2</td>\n",
       "      <td>51947</td>\n",
       "      <td>0</td>\n",
       "      <td>0</td>\n",
       "    </tr>\n",
       "    <tr>\n",
       "      <th>...</th>\n",
       "      <td>...</td>\n",
       "      <td>...</td>\n",
       "      <td>...</td>\n",
       "      <td>...</td>\n",
       "      <td>...</td>\n",
       "      <td>...</td>\n",
       "      <td>...</td>\n",
       "      <td>...</td>\n",
       "      <td>...</td>\n",
       "      <td>...</td>\n",
       "      <td>...</td>\n",
       "      <td>...</td>\n",
       "      <td>...</td>\n",
       "      <td>...</td>\n",
       "      <td>...</td>\n",
       "      <td>...</td>\n",
       "      <td>...</td>\n",
       "      <td>...</td>\n",
       "      <td>...</td>\n",
       "      <td>...</td>\n",
       "      <td>...</td>\n",
       "      <td>...</td>\n",
       "      <td>...</td>\n",
       "      <td>...</td>\n",
       "      <td>...</td>\n",
       "      <td>...</td>\n",
       "      <td>...</td>\n",
       "      <td>...</td>\n",
       "      <td>...</td>\n",
       "      <td>...</td>\n",
       "      <td>...</td>\n",
       "      <td>...</td>\n",
       "      <td>...</td>\n",
       "      <td>...</td>\n",
       "      <td>...</td>\n",
       "      <td>...</td>\n",
       "      <td>...</td>\n",
       "      <td>...</td>\n",
       "      <td>...</td>\n",
       "      <td>...</td>\n",
       "    </tr>\n",
       "    <tr>\n",
       "      <th>2999995</th>\n",
       "      <td>1</td>\n",
       "      <td>1.0</td>\n",
       "      <td>888</td>\n",
       "      <td>0.0</td>\n",
       "      <td>0.0</td>\n",
       "      <td>503.0</td>\n",
       "      <td>35.0</td>\n",
       "      <td>8.0</td>\n",
       "      <td>1.0</td>\n",
       "      <td>2.0</td>\n",
       "      <td>1.0</td>\n",
       "      <td>3.0</td>\n",
       "      <td>0.0</td>\n",
       "      <td>0.0</td>\n",
       "      <td>527</td>\n",
       "      <td>123</td>\n",
       "      <td>435525</td>\n",
       "      <td>143822</td>\n",
       "      <td>106</td>\n",
       "      <td>7</td>\n",
       "      <td>7062</td>\n",
       "      <td>216</td>\n",
       "      <td>2</td>\n",
       "      <td>8262</td>\n",
       "      <td>3672</td>\n",
       "      <td>197215</td>\n",
       "      <td>2931</td>\n",
       "      <td>9</td>\n",
       "      <td>833</td>\n",
       "      <td>531960</td>\n",
       "      <td>0</td>\n",
       "      <td>792</td>\n",
       "      <td>0</td>\n",
       "      <td>0</td>\n",
       "      <td>326506</td>\n",
       "      <td>0</td>\n",
       "      <td>2</td>\n",
       "      <td>5344</td>\n",
       "      <td>0</td>\n",
       "      <td>0</td>\n",
       "    </tr>\n",
       "    <tr>\n",
       "      <th>2999996</th>\n",
       "      <td>1</td>\n",
       "      <td>0.0</td>\n",
       "      <td>-1</td>\n",
       "      <td>0.0</td>\n",
       "      <td>0.0</td>\n",
       "      <td>2556.0</td>\n",
       "      <td>0.0</td>\n",
       "      <td>20.0</td>\n",
       "      <td>0.0</td>\n",
       "      <td>0.0</td>\n",
       "      <td>0.0</td>\n",
       "      <td>1.0</td>\n",
       "      <td>0.0</td>\n",
       "      <td>0.0</td>\n",
       "      <td>30</td>\n",
       "      <td>325</td>\n",
       "      <td>149572</td>\n",
       "      <td>143037</td>\n",
       "      <td>106</td>\n",
       "      <td>9</td>\n",
       "      <td>4974</td>\n",
       "      <td>23</td>\n",
       "      <td>2</td>\n",
       "      <td>4609</td>\n",
       "      <td>1873</td>\n",
       "      <td>703940</td>\n",
       "      <td>904</td>\n",
       "      <td>4</td>\n",
       "      <td>5423</td>\n",
       "      <td>225248</td>\n",
       "      <td>9</td>\n",
       "      <td>730</td>\n",
       "      <td>0</td>\n",
       "      <td>0</td>\n",
       "      <td>65868</td>\n",
       "      <td>10</td>\n",
       "      <td>8</td>\n",
       "      <td>41860</td>\n",
       "      <td>0</td>\n",
       "      <td>0</td>\n",
       "    </tr>\n",
       "    <tr>\n",
       "      <th>2999997</th>\n",
       "      <td>1</td>\n",
       "      <td>0.0</td>\n",
       "      <td>-1</td>\n",
       "      <td>0.0</td>\n",
       "      <td>0.0</td>\n",
       "      <td>10.0</td>\n",
       "      <td>0.0</td>\n",
       "      <td>0.0</td>\n",
       "      <td>0.0</td>\n",
       "      <td>0.0</td>\n",
       "      <td>0.0</td>\n",
       "      <td>0.0</td>\n",
       "      <td>0.0</td>\n",
       "      <td>0.0</td>\n",
       "      <td>30</td>\n",
       "      <td>268</td>\n",
       "      <td>678675</td>\n",
       "      <td>119601</td>\n",
       "      <td>43</td>\n",
       "      <td>18</td>\n",
       "      <td>6818</td>\n",
       "      <td>23</td>\n",
       "      <td>0</td>\n",
       "      <td>10480</td>\n",
       "      <td>2263</td>\n",
       "      <td>492343</td>\n",
       "      <td>2715</td>\n",
       "      <td>17</td>\n",
       "      <td>2182</td>\n",
       "      <td>349245</td>\n",
       "      <td>5</td>\n",
       "      <td>3840</td>\n",
       "      <td>249</td>\n",
       "      <td>3</td>\n",
       "      <td>237220</td>\n",
       "      <td>0</td>\n",
       "      <td>11</td>\n",
       "      <td>6767</td>\n",
       "      <td>69</td>\n",
       "      <td>23797</td>\n",
       "    </tr>\n",
       "    <tr>\n",
       "      <th>2999998</th>\n",
       "      <td>0</td>\n",
       "      <td>0.0</td>\n",
       "      <td>6</td>\n",
       "      <td>0.0</td>\n",
       "      <td>0.0</td>\n",
       "      <td>40271.0</td>\n",
       "      <td>0.0</td>\n",
       "      <td>0.0</td>\n",
       "      <td>22.0</td>\n",
       "      <td>10.0</td>\n",
       "      <td>0.0</td>\n",
       "      <td>0.0</td>\n",
       "      <td>0.0</td>\n",
       "      <td>0.0</td>\n",
       "      <td>30</td>\n",
       "      <td>20</td>\n",
       "      <td>490018</td>\n",
       "      <td>263330</td>\n",
       "      <td>43</td>\n",
       "      <td>7</td>\n",
       "      <td>4792</td>\n",
       "      <td>397</td>\n",
       "      <td>2</td>\n",
       "      <td>10480</td>\n",
       "      <td>2093</td>\n",
       "      <td>492789</td>\n",
       "      <td>290</td>\n",
       "      <td>2</td>\n",
       "      <td>2809</td>\n",
       "      <td>389375</td>\n",
       "      <td>9</td>\n",
       "      <td>1812</td>\n",
       "      <td>0</td>\n",
       "      <td>0</td>\n",
       "      <td>10497</td>\n",
       "      <td>0</td>\n",
       "      <td>5</td>\n",
       "      <td>55990</td>\n",
       "      <td>0</td>\n",
       "      <td>0</td>\n",
       "    </tr>\n",
       "    <tr>\n",
       "      <th>2999999</th>\n",
       "      <td>0</td>\n",
       "      <td>2.0</td>\n",
       "      <td>1</td>\n",
       "      <td>4.0</td>\n",
       "      <td>1.0</td>\n",
       "      <td>76.0</td>\n",
       "      <td>1.0</td>\n",
       "      <td>2.0</td>\n",
       "      <td>1.0</td>\n",
       "      <td>1.0</td>\n",
       "      <td>1.0</td>\n",
       "      <td>1.0</td>\n",
       "      <td>0.0</td>\n",
       "      <td>1.0</td>\n",
       "      <td>30</td>\n",
       "      <td>68</td>\n",
       "      <td>443174</td>\n",
       "      <td>2731</td>\n",
       "      <td>43</td>\n",
       "      <td>7</td>\n",
       "      <td>695</td>\n",
       "      <td>23</td>\n",
       "      <td>2</td>\n",
       "      <td>21560</td>\n",
       "      <td>3344</td>\n",
       "      <td>108422</td>\n",
       "      <td>2875</td>\n",
       "      <td>17</td>\n",
       "      <td>2583</td>\n",
       "      <td>237754</td>\n",
       "      <td>3</td>\n",
       "      <td>967</td>\n",
       "      <td>249</td>\n",
       "      <td>3</td>\n",
       "      <td>574524</td>\n",
       "      <td>0</td>\n",
       "      <td>3</td>\n",
       "      <td>2400</td>\n",
       "      <td>1</td>\n",
       "      <td>4554</td>\n",
       "    </tr>\n",
       "  </tbody>\n",
       "</table>\n",
       "<p>3000000 rows × 40 columns</p>\n",
       "</div>"
      ],
      "text/plain": [
       "         label   I1   I2    I3    I4       I5    I6    I7    I8     I9  I10  \\\n",
       "0            0  1.0    1   5.0   0.0   1382.0   4.0  15.0   2.0  181.0  1.0   \n",
       "1            0  2.0    0  44.0   1.0    102.0   8.0   2.0   2.0    4.0  1.0   \n",
       "2            0  2.0    0   1.0  14.0    767.0  89.0   4.0   2.0  245.0  1.0   \n",
       "3            0  0.0  893   0.0   0.0   4392.0   0.0   0.0   0.0    0.0  0.0   \n",
       "4            0  3.0   -1   0.0   0.0      2.0   0.0   3.0   0.0    0.0  1.0   \n",
       "...        ...  ...  ...   ...   ...      ...   ...   ...   ...    ...  ...   \n",
       "2999995      1  1.0  888   0.0   0.0    503.0  35.0   8.0   1.0    2.0  1.0   \n",
       "2999996      1  0.0   -1   0.0   0.0   2556.0   0.0  20.0   0.0    0.0  0.0   \n",
       "2999997      1  0.0   -1   0.0   0.0     10.0   0.0   0.0   0.0    0.0  0.0   \n",
       "2999998      0  0.0    6   0.0   0.0  40271.0   0.0   0.0  22.0   10.0  0.0   \n",
       "2999999      0  2.0    1   4.0   1.0     76.0   1.0   2.0   1.0    1.0  1.0   \n",
       "\n",
       "         I11  I12   I13   C1   C2      C3      C4   C5  C6     C7   C8  C9  \\\n",
       "0        2.0  0.0   2.0  604  268  848553  132728   43   7  10058   79   2   \n",
       "1        1.0  0.0   4.0  604  514  375982   70110   43  18   6686   23   2   \n",
       "2        3.0  3.0  45.0  219   25    9426  208134   43   7   9042   23   2   \n",
       "3        0.0  0.0   0.0  604   96  572327   49409   43  18   2155   23   2   \n",
       "4        1.0  0.0   0.0  785  381  675033  267410   43   2   7919   23   2   \n",
       "...      ...  ...   ...  ...  ...     ...     ...  ...  ..    ...  ...  ..   \n",
       "2999995  3.0  0.0   0.0  527  123  435525  143822  106   7   7062  216   2   \n",
       "2999996  1.0  0.0   0.0   30  325  149572  143037  106   9   4974   23   2   \n",
       "2999997  0.0  0.0   0.0   30  268  678675  119601   43  18   6818   23   0   \n",
       "2999998  0.0  0.0   0.0   30   20  490018  263330   43   7   4792  397   2   \n",
       "2999999  1.0  0.0   1.0   30   68  443174    2731   43   7    695   23   2   \n",
       "\n",
       "           C10   C11     C12   C13  C14   C15     C16  C17   C18  C19  C20  \\\n",
       "0        29947  3564  158090   474    4  5888  285899    9  4253  249    3   \n",
       "1         7715  1540  278311  2629   17  9756  418883    0  3043  249    1   \n",
       "2        10480  1858  407308  2102    2  4660  112485    6   876    0    0   \n",
       "3        42827  4544  461549   656    2  1003  172219    1  1995    0    0   \n",
       "4        14642  4560  290726  2935    4  6063    3466    1   659    0    0   \n",
       "...        ...   ...     ...   ...  ...   ...     ...  ...   ...  ...  ...   \n",
       "2999995   8262  3672  197215  2931    9   833  531960    0   792    0    0   \n",
       "2999996   4609  1873  703940   904    4  5423  225248    9   730    0    0   \n",
       "2999997  10480  2263  492343  2715   17  2182  349245    5  3840  249    3   \n",
       "2999998  10480  2093  492789   290    2  2809  389375    9  1812    0    0   \n",
       "2999999  21560  3344  108422  2875   17  2583  237754    3   967  249    3   \n",
       "\n",
       "            C21  C22  C23    C24  C25    C26  \n",
       "0         19417    0    3  57441   69  30715  \n",
       "1        243203    0    3  19648   69  23237  \n",
       "2        575361   11    3  17088    0      0  \n",
       "3        268935    0    3  41965    0      0  \n",
       "4         84436    0    2  51947    0      0  \n",
       "...         ...  ...  ...    ...  ...    ...  \n",
       "2999995  326506    0    2   5344    0      0  \n",
       "2999996   65868   10    8  41860    0      0  \n",
       "2999997  237220    0   11   6767   69  23797  \n",
       "2999998   10497    0    5  55990    0      0  \n",
       "2999999  574524    0    3   2400    1   4554  \n",
       "\n",
       "[3000000 rows x 40 columns]"
      ]
     },
     "execution_count": 604,
     "metadata": {},
     "output_type": "execute_result"
    }
   ],
   "source": [
    "header_row = ['label','I1','I2','I3','I4','I5','I6','I7','I8','I9','I10','I11','I12','I13','C1','C2','C3','C4','C5','C6','C7','C8','C9','C10','C11','C12','C13','C14','C15','C16','C17','C18','C19','C20','C21','C22','C23','C24','C25','C26']\n",
    "\n",
    "start_load_time = time.time()\n",
    "data = pd.read_csv('../data/kaggle-display-advertising-challenge-dataset/train.txt', sep='\\t', names=header_row, nrows=3000000)\n",
    "print(\"Loading Time:\",time.time()-start_load_time)\n",
    "\n",
    "sparse_features = ['C' + str(i) for i in range(1, 27)]\n",
    "dense_features = ['I'+str(i) for i in range(1, 14)]\n",
    "\n",
    "data[sparse_features] = data[sparse_features].fillna('-1', )\n",
    "data[dense_features] = data[dense_features].fillna(0,)\n",
    "target = ['label']\n",
    "\n",
    " # 1.Label Encoding for sparse features,and do simple Transformation for dense features\n",
    "for feat in sparse_features:\n",
    "    lbe = LabelEncoder()\n",
    "    data[feat] = lbe.fit_transform(data[feat])\n",
    "    \n",
    "#mms = MinMaxScaler(feature_range=(0, 1),copy=False)\n",
    "#data[dense_features] = mms.fit_transform(data[dense_features])\n",
    "\n",
    "# 2.count #unique features for each sparse field,and record dense feature field name\n",
    "\n",
    "fixlen_feature_columns = [SparseFeat(feat, vocabulary_size=data[feat].max() + 1, embedding_dim=4)\n",
    "                          for i, feat in enumerate(sparse_features)] + [DenseFeat(feat, 1, )\n",
    "                                                                        for feat in dense_features]\n",
    "\n",
    "dnn_feature_columns = fixlen_feature_columns\n",
    "linear_feature_columns = fixlen_feature_columns\n",
    "feature_names = get_feature_names(linear_feature_columns + dnn_feature_columns)\n",
    "    \n",
    "\n",
    "print(\"Shape:\",data.shape)\n",
    "\n",
    "pd.set_option('display.max_columns', len(data))\n",
    "data"
   ]
  },
  {
   "cell_type": "markdown",
   "metadata": {},
   "source": [
    "Pre-process Int-Only features for Pure Brute Force Method\n",
    "---"
   ]
  },
  {
   "cell_type": "code",
   "execution_count": 583,
   "metadata": {},
   "outputs": [
    {
     "data": {
      "text/html": [
       "<div>\n",
       "<style scoped>\n",
       "    .dataframe tbody tr th:only-of-type {\n",
       "        vertical-align: middle;\n",
       "    }\n",
       "\n",
       "    .dataframe tbody tr th {\n",
       "        vertical-align: top;\n",
       "    }\n",
       "\n",
       "    .dataframe thead th {\n",
       "        text-align: right;\n",
       "    }\n",
       "</style>\n",
       "<table border=\"1\" class=\"dataframe\">\n",
       "  <thead>\n",
       "    <tr style=\"text-align: right;\">\n",
       "      <th></th>\n",
       "      <th>0</th>\n",
       "      <th>1</th>\n",
       "      <th>2</th>\n",
       "      <th>3</th>\n",
       "    </tr>\n",
       "  </thead>\n",
       "  <tbody>\n",
       "    <tr>\n",
       "      <th>0</th>\n",
       "      <td>1</td>\n",
       "      <td>2</td>\n",
       "      <td>3</td>\n",
       "      <td>4</td>\n",
       "    </tr>\n",
       "  </tbody>\n",
       "</table>\n",
       "</div>"
      ],
      "text/plain": [
       "   0  1  2  3\n",
       "0  1  2  3  4"
      ]
     },
     "execution_count": 583,
     "metadata": {},
     "output_type": "execute_result"
    }
   ],
   "source": [
    "a = pd.DataFrame(np.asarray([1,2,3,4]).reshape(1,-1))\n",
    "features = []\n",
    "for i in a:\n",
    "    features.append(str(i))\n",
    "a.columns = features\n",
    "a = a.drop(columns=a[features[4:]])\n",
    "a"
   ]
  },
  {
   "cell_type": "code",
   "execution_count": 728,
   "metadata": {},
   "outputs": [
    {
     "name": "stdout",
     "output_type": "stream",
     "text": [
      "Shape: (3000000, 15)\n"
     ]
    }
   ],
   "source": [
    "trunc_data = data.copy()\n",
    "\n",
    "sparse_features = ['C' + str(i) for i in range(1, 27)]\n",
    "dense_features = ['I'+str(i) for i in range(1, 14)]\n",
    "\n",
    "n_int_feats = 13\n",
    "trunc_data = trunc_data.drop(columns=dense_features[n_int_feats:])\n",
    "trunc_data = trunc_data.drop(columns=sparse_features[1:])\n",
    "trunc_data['C1'] = pd.DataFrame(np.array(['' for _ in range(len(trunc_data['C1']))]))\n",
    "\n",
    "dense_features = ['I'+str(i) for i in range(1, n_int_feats)] #I 1-5\n",
    "sparse_features = ['C' + str(i) for i in range(1, 2)]\n",
    "\n",
    "\n",
    "trunc_data[sparse_features] = trunc_data[sparse_features].fillna('-1', )\n",
    "trunc_data[dense_features] = trunc_data[dense_features].fillna(0,)\n",
    "target = ['label']\n",
    "\n",
    " # 1.Label Encoding for sparse features,and do simple Transformation for dense features\n",
    "for feat in sparse_features:\n",
    "    lbe = LabelEncoder()\n",
    "    trunc_data[feat] = lbe.fit_transform(trunc_data[feat])\n",
    "    \n",
    "mms = MinMaxScaler(feature_range=(0, 1))\n",
    "trunc_data[dense_features] = mms.fit_transform(trunc_data[dense_features])\n",
    "\n",
    "# 2.count #unique features for each sparse field,and record dense feature field name\n",
    "\n",
    "fixlen_feature_columns = [SparseFeat(feat, vocabulary_size=trunc_data[feat].max() + 1, embedding_dim=4)\n",
    "                          for i, feat in enumerate(sparse_features)] + [DenseFeat(feat, 1, )\n",
    "                                                                        for feat in dense_features]\n",
    "\n",
    "dnn_feature_columns = fixlen_feature_columns\n",
    "linear_feature_columns = fixlen_feature_columns\n",
    "feature_names = get_feature_names(linear_feature_columns + dnn_feature_columns)\n",
    "    \n",
    "\n",
    "print(\"Shape:\",trunc_data.shape)\n",
    "\n",
    "pd.set_option('display.max_columns', len(trunc_data))\n",
    "#trunc_data"
   ]
  },
  {
   "cell_type": "markdown",
   "metadata": {},
   "source": [
    "Train & Eval DeepFM model\n",
    "---"
   ]
  },
  {
   "cell_type": "code",
   "execution_count": 585,
   "metadata": {
    "scrolled": true
   },
   "outputs": [],
   "source": [
    "#Last parameter of model is 0 is reflect null categorical feature\n",
    "\n",
    "train, test = train_test_split(trunc_data, test_size=0.2)\n",
    "\n",
    "train_model_input = {name:train[name].values for name in feature_names}\n",
    "test_model_input = {name:test[name].values for name in feature_names}"
   ]
  },
  {
   "cell_type": "code",
   "execution_count": 727,
   "metadata": {
    "scrolled": true
   },
   "outputs": [],
   "source": [
    "model = DeepFM(linear_feature_columns, dnn_feature_columns, task='binary')\n",
    "model.compile(\"adam\", \"binary_crossentropy\", metrics=['binary_crossentropy'], )\n",
    "\n",
    "#history = model.fit(train_model_input, train[target].values, batch_size=256, epochs=10, verbose=1, validation_split=0.2, )"
   ]
  },
  {
   "cell_type": "code",
   "execution_count": 587,
   "metadata": {},
   "outputs": [
    {
     "data": {
      "text/plain": [
       "[<matplotlib.lines.Line2D at 0x7fa58ed65750>]"
      ]
     },
     "execution_count": 587,
     "metadata": {},
     "output_type": "execute_result"
    },
    {
     "data": {
      "image/png": "[encoded data removed]",
      "text/plain": [
       "<Figure size 432x288 with 1 Axes>"
      ]
     },
     "metadata": {
      "needs_background": "light"
     },
     "output_type": "display_data"
    }
   ],
   "source": [
    "plt.plot(history.history['loss'])"
   ]
  },
  {
   "cell_type": "code",
   "execution_count": 588,
   "metadata": {},
   "outputs": [
    {
     "name": "stdout",
     "output_type": "stream",
     "text": [
      "test MSE 0.1685\n",
      "test LogLoss inf\n"
     ]
    },
    {
     "name": "stderr",
     "output_type": "stream",
     "text": [
      "/Users/sean/anaconda3/lib/python3.7/site-packages/sklearn/metrics/_classification.py:2240: RuntimeWarning: divide by zero encountered in log\n",
      "  loss = -(transformed_labels * np.log(y_pred)).sum(axis=1)\n"
     ]
    },
    {
     "name": "stdout",
     "output_type": "stream",
     "text": [
      "test AUC 0.712\n"
     ]
    }
   ],
   "source": [
    "pred_ans = model.predict(test_model_input, batch_size=256)\n",
    "print(\"test MSE\", round(mean_squared_error(test[target].values, pred_ans), 4))\n",
    "print(\"test LogLoss\", round(log_loss(test[target].values, pred_ans), 4))\n",
    "print(\"test AUC\", round(roc_auc_score(test[target].values, pred_ans), 4))"
   ]
  },
  {
   "cell_type": "code",
   "execution_count": 589,
   "metadata": {},
   "outputs": [
    {
     "name": "stdout",
     "output_type": "stream",
     "text": [
      "18750/18750 [==============================] - 37s 2ms/step - loss: 1.6973e-06 - binary_crossentropy: 0.0000e+00\n",
      "[1.6973332321867929e-06, 0.0]\n"
     ]
    }
   ],
   "source": [
    "eval_result = model.evaluate(test_model_input)\n",
    "print(eval_result)"
   ]
  },
  {
   "cell_type": "code",
   "execution_count": 590,
   "metadata": {
    "scrolled": true
   },
   "outputs": [
    {
     "name": "stdout",
     "output_type": "stream",
     "text": [
      "Accuracy: 0.758115\n"
     ]
    }
   ],
   "source": [
    "true_pos = 0\n",
    "true_neg = 0\n",
    "false_pos = 0\n",
    "false_neg = 0\n",
    "\n",
    "for sample_i in range(len(pred_ans)):\n",
    "    if round(pred_ans[sample_i][0]) == test.label.iloc[sample_i]: # Predicted == Actual\n",
    "        if test.label.iloc[sample_i] == 1:\n",
    "            true_pos += 1\n",
    "        else:\n",
    "            true_neg += 1\n",
    "    else:\n",
    "        if test.label.iloc[sample_i] == 1:\n",
    "            false_neg += 1\n",
    "        else:\n",
    "            false_pos += 1\n",
    "\n",
    "accuracy = (true_pos + true_neg) / len(pred_ans)\n",
    "print(\"Accuracy:\",accuracy)"
   ]
  },
  {
   "cell_type": "code",
   "execution_count": 591,
   "metadata": {},
   "outputs": [
    {
     "data": {
      "text/plain": [
       "[[14573, 9418], [135713, 440296]]"
      ]
     },
     "execution_count": 591,
     "metadata": {},
     "output_type": "execute_result"
    }
   ],
   "source": [
    "confusion_matrix = [[true_pos, false_pos],[false_neg,true_neg]]\n",
    "confusion_matrix"
   ]
  },
  {
   "cell_type": "code",
   "execution_count": 201,
   "metadata": {},
   "outputs": [],
   "source": [
    "#save_model(model, 'DeepFMint.h5')# save_model, same as before"
   ]
  },
  {
   "cell_type": "code",
   "execution_count": 4,
   "metadata": {},
   "outputs": [],
   "source": [
    "model = load_model('../models/DeepFMint.h5',custom_objects)# load_model,just add a parameter"
   ]
  },
  {
   "cell_type": "markdown",
   "metadata": {},
   "source": [
    "Initialize BFET and query rec\n",
    "---"
   ]
  },
  {
   "cell_type": "code",
   "execution_count": 72,
   "metadata": {},
   "outputs": [
    {
     "data": {
      "text/plain": [
       "(10, 10, 10, 10, 10)"
      ]
     },
     "execution_count": 72,
     "metadata": {},
     "output_type": "execute_result"
    }
   ],
   "source": [
    "def construct_bfet(feat_range):\n",
    "    dense_features = ['I1','I2','I3','I4','I5']\n",
    "    ndims = len(dense_features)\n",
    "    bfet_shape = (feat_range,) * ndims\n",
    "    return np.ndarray(bfet_shape)\n",
    "\n",
    "bfet = construct_bfet(10)\n",
    "bfet.shape"
   ]
  },
  {
   "cell_type": "markdown",
   "metadata": {},
   "source": [
    "BFS on BFET - Multi-way Feature Interactions\n",
    "---"
   ]
  },
  {
   "cell_type": "code",
   "execution_count": 290,
   "metadata": {},
   "outputs": [
    {
     "data": {
      "text/plain": [
       "0"
      ]
     },
     "execution_count": 290,
     "metadata": {},
     "output_type": "execute_result"
    }
   ],
   "source": [
    "queryrec = np.asarray([1,888,0,0,503])\n",
    "query_model(queryrec)"
   ]
  },
  {
   "cell_type": "code",
   "execution_count": 289,
   "metadata": {
    "scrolled": true
   },
   "outputs": [],
   "source": [
    "def find_adjs(node):\n",
    "    \n",
    "    adj_nodes = []\n",
    "    for dim in range(len(node)):\n",
    "        temp = node.copy()\n",
    "        temp[dim] = temp[dim] + 1\n",
    "        adj_nodes.append(temp)\n",
    "        temp = node.copy()\n",
    "        temp[dim] = temp[dim] - 1\n",
    "        adj_nodes.append(temp)\n",
    "    return adj_nodes\n",
    "\n",
    "\n",
    "def query_model(node):\n",
    "    \n",
    "    transf_node = mms.transform([node])\n",
    "    transf_node = np.append(transf_node,0)#Last parameter of model is 0 is reflect null categorical feature\n",
    "    queryrec_input = {feature_names[name]:np.asarray([transf_node[name]]) for name in range(len(feature_names))}\n",
    "    return int(model.predict(queryrec_input)) #returns model recommendation\n",
    "\n",
    "\n",
    "def bfs(graph_shape, node):\n",
    "    \n",
    "    k = 8\n",
    "    discovered = [] #Vector of k-closest feature interactions to opposite recommendation\n",
    "    \n",
    "    frontier = deque() # create a queue for doing BFS\n",
    "    \n",
    "    visited = {} # True corresponds to visited for low complexity \"visited\" search\n",
    "    visited[tuple(node)] = True #mark the source vertex as discovered\n",
    " \n",
    "    frontier.append(node) # enqueue source rec\n",
    "    \n",
    "    source_rec = query_model(node) #rec value to be explained\n",
    "     \n",
    "    # loop till queue is empty, or k solutions were discovered\n",
    "    while frontier and len(discovered) < k:\n",
    " \n",
    "        # dequeue front node\n",
    "        node = frontier.popleft()\n",
    "        #print(node, end=' ')\n",
    " \n",
    "        adjs = find_adjs(node) #every node adjacent to the current node\n",
    "        for adj_node in adjs:\n",
    "            \n",
    "            in_bfet = True\n",
    "            for i in range(len(adj_node)):\n",
    "                if adj_node[i] >= graph_shape[i] or adj_node[i] < 0:\n",
    "                    in_bfet = False\n",
    "            \n",
    "            if in_bfet and tuple(adj_node) not in visited.keys():\n",
    "                \n",
    "                visited[tuple(adj_node)] = True\n",
    "                frontier.append(adj_node)\n",
    "                \n",
    "                query_rec = query_model(adj_node)\n",
    "                print(adj_node, ':',query_rec)\n",
    "                if query_rec != source_rec:\n",
    "                    discovered.append(adj_node)\n",
    "                    print(\"^  SOLUTION!!!!!!!!!  ^\")\n",
    "    return discovered\n",
    "\n",
    "\n",
    "#Model, feature_names are global\n",
    "queryrec = np.asarray([5,5,5,5,5])\n",
    "feature_names = ['I1','I2','I3','I4','I5','C1']\n",
    "bfet_dims = 10\n",
    "bfet_shape = np.repeat([bfet_dims],5)\n",
    "#solutions = bfs(bfet_shape, queryrec)"
   ]
  },
  {
   "cell_type": "code",
   "execution_count": 113,
   "metadata": {},
   "outputs": [
    {
     "name": "stdout",
     "output_type": "stream",
     "text": [
      "Feature values leading to opposite rec : Distance of features from source features\n"
     ]
    },
    {
     "data": {
      "text/plain": [
       "{(0, 5, 5, 5, 5): array([-5,  0,  0,  0,  0]),\n",
       " (0, 6, 5, 5, 5): array([-5,  1,  0,  0,  0]),\n",
       " (0, 4, 5, 5, 5): array([-5, -1,  0,  0,  0]),\n",
       " (0, 5, 6, 5, 5): array([-5,  0,  1,  0,  0]),\n",
       " (0, 5, 4, 5, 5): array([-5,  0, -1,  0,  0]),\n",
       " (0, 5, 5, 6, 5): array([-5,  0,  0,  1,  0]),\n",
       " (0, 5, 5, 4, 5): array([-5,  0,  0, -1,  0]),\n",
       " (0, 5, 5, 5, 6): array([-5,  0,  0,  0,  1]),\n",
       " (0, 5, 5, 5, 4): array([-5,  0,  0,  0, -1])}"
      ]
     },
     "execution_count": 113,
     "metadata": {},
     "output_type": "execute_result"
    }
   ],
   "source": [
    "print(\"Feature values leading to opposite rec : Distance of features from source features\")\n",
    "distance = {}\n",
    "for soln in solutions:\n",
    "    distance[tuple(soln)] = soln - queryrec\n",
    "\n",
    "distance"
   ]
  },
  {
   "cell_type": "code",
   "execution_count": 131,
   "metadata": {},
   "outputs": [
    {
     "name": "stdout",
     "output_type": "stream",
     "text": [
      "Feature Values      Total Distance\n",
      "(0, 5, 5, 5, 5) --> [5 0 0 0 0]: Linear: 5.0 Block: 5\n",
      "(0, 6, 5, 5, 5) --> [5 1 0 0 0]: Linear: 5.099 Block: 6\n",
      "(0, 4, 5, 5, 5) --> [5 1 0 0 0]: Linear: 5.099 Block: 6\n",
      "(0, 5, 6, 5, 5) --> [5 0 1 0 0]: Linear: 5.099 Block: 6\n",
      "(0, 5, 4, 5, 5) --> [5 0 1 0 0]: Linear: 5.099 Block: 6\n",
      "(0, 5, 5, 6, 5) --> [5 0 0 1 0]: Linear: 5.099 Block: 6\n",
      "(0, 5, 5, 4, 5) --> [5 0 0 1 0]: Linear: 5.099 Block: 6\n",
      "(0, 5, 5, 5, 6) --> [5 0 0 0 1]: Linear: 5.099 Block: 6\n",
      "(0, 5, 5, 5, 4) --> [5 0 0 0 1]: Linear: 5.099 Block: 6\n"
     ]
    }
   ],
   "source": [
    "print(\"Feature Values      Total Distance\")\n",
    "for key in distance:\n",
    "    print(key,end=' --> ')\n",
    "    print(np.array(abs(distance[key])),end=': ')\n",
    "    dsum = 0\n",
    "    for feat in np.array(abs(distance[key])):\n",
    "        dsum += feat ** 2\n",
    "    linear_distance = round(math.sqrt(dsum),3)\n",
    "    print(\"Linear:\",linear_distance,end=' ')\n",
    "    mdistance = np.array(abs(distance[key])).sum()\n",
    "    print(\"Block:\",mdistance)"
   ]
  },
  {
   "cell_type": "markdown",
   "metadata": {},
   "source": [
    "Given this scenario where the k=8 closest solutions all contain the same distance for a single feature, with none of the recommendations existing independently of feat(0).val = 0. What is the best way to analyze this output? <br> \n",
    "\n",
    "It can be concluded that feat(0) is the most unstable feature for this recommendation, such that a small change to feat(0) had the largest impact on the model recommendation. This feature instability can be interpreted as explainability of the recommendation, as it provides insight into where the model would recommend differently."
   ]
  },
  {
   "cell_type": "markdown",
   "metadata": {},
   "source": [
    "DFS on BFET - 1-way Feature Interactions\n",
    "---"
   ]
  },
  {
   "cell_type": "code",
   "execution_count": 725,
   "metadata": {},
   "outputs": [],
   "source": [
    "def dfs(graph_shape,node):\n",
    "\n",
    "    source_rec = query_model(node) #rec value to be explained\n",
    "    discovered = []\n",
    "    for feat in range(len(node)):\n",
    "        \n",
    "        start_search_time = time.time()\n",
    "        found = False\n",
    "        cur_node = node.copy()\n",
    "        while cur_node[feat] < graph_shape[feat]-1 and not found:\n",
    "            cur_node[feat] += 1\n",
    "            rec = query_model(cur_node)\n",
    "            #print(rec,':',cur_node[feat])\n",
    "            if rec != source_rec:\n",
    "                discovered.append(cur_node)\n",
    "                found = True\n",
    "                print(cur_node, end=', ')\n",
    "        print(feat,\"Search Time <--:\",time.time()-start_search_time)\n",
    "        \n",
    "        start_search_time = time.time()\n",
    "        cur_node = node.copy()\n",
    "        while cur_node[feat] > 0 and not found:\n",
    "            cur_node[feat] -= 1\n",
    "            rec = query_model(cur_node)\n",
    "            #print(rec,':',cur_node[feat])\n",
    "            if rec != source_rec:\n",
    "                discovered.append(cur_node)\n",
    "                found = True\n",
    "                print(cur_node, end=', ')\n",
    "        print(feat,\"Search Time -->:\",time.time()-start_search_time)\n",
    "    return discovered\n",
    "\n",
    "\n",
    "queryrec = np.asarray([0,0,0,0,0])\n",
    "#bfet = construct_bfet(100)\n",
    "bfet_dims = 100\n",
    "bfet_shape = np.repeat([bfet_dims],5)\n",
    "#########solutions = dfs(bfet_shape,queryrec)"
   ]
  },
  {
   "cell_type": "markdown",
   "metadata": {},
   "source": [
    "Gradient Descent Feature Explainability & Stability Tensor Search (GDFEST Search)\n",
    "---\n",
    "BFS to identify decision boundary, A* to perform gradient descent along decision boundary"
   ]
  },
  {
   "cell_type": "markdown",
   "metadata": {},
   "source": [
    "Construct Model Classifying Debuggable Decision Boundary\n",
    "---"
   ]
  },
  {
   "cell_type": "code",
   "execution_count": 681,
   "metadata": {},
   "outputs": [
    {
     "data": {
      "image/png": "[encoded data removed]",
      "text/plain": [
       "<Figure size 360x360 with 1 Axes>"
      ]
     },
     "metadata": {
      "needs_background": "light"
     },
     "output_type": "display_data"
    }
   ],
   "source": [
    "fig, ax = plt.subplots(figsize = (5, 5))\n",
    "plt.ylim(-2,2)\n",
    "plt.xlim(-2,2)\n",
    "\n",
    "nfeats = 2\n",
    "v = []\n",
    "labels = []\n",
    "nsamp = 1000\n",
    "for _ in range(nsamp):\n",
    "    point = np.random.uniform(low=-2, high=2, size=(nfeats,))\n",
    "    v.append(point)\n",
    "    if (point[0]**1) + (point[1]**2) < 1:\n",
    "        labels.append(1)\n",
    "        plt.plot(point[0],point[1],'bo')\n",
    "    else:\n",
    "        labels.append(0)\n",
    "        plt.plot(point[0],point[1],'r+')"
   ]
  },
  {
   "cell_type": "code",
   "execution_count": 682,
   "metadata": {
    "scrolled": true
   },
   "outputs": [
    {
     "name": "stdout",
     "output_type": "stream",
     "text": [
      "Epoch 1/10\n",
      "32/32 [==============================] - 1s 3ms/step - loss: 0.6531 - accuracy: 0.7708 - precision: 0.7541 - recall: 0.7267\n",
      "Epoch 2/10\n",
      "32/32 [==============================] - 0s 3ms/step - loss: 0.1508 - accuracy: 0.9392 - precision: 0.9463 - recall: 0.9114\n",
      "Epoch 3/10\n",
      "32/32 [==============================] - 0s 2ms/step - loss: 0.1059 - accuracy: 0.9561 - precision: 0.9499 - recall: 0.9486\n",
      "Epoch 4/10\n",
      "32/32 [==============================] - 0s 2ms/step - loss: 0.2070 - accuracy: 0.9374 - precision: 0.9478 - recall: 0.9001\n",
      "Epoch 5/10\n",
      "32/32 [==============================] - 0s 2ms/step - loss: 0.1450 - accuracy: 0.9361 - precision: 0.9222 - recall: 0.9271\n",
      "Epoch 6/10\n",
      "32/32 [==============================] - 0s 2ms/step - loss: 0.0877 - accuracy: 0.9652 - precision: 0.9818 - recall: 0.9316\n",
      "Epoch 7/10\n",
      "32/32 [==============================] - 0s 3ms/step - loss: 0.0862 - accuracy: 0.9682 - precision: 0.9801 - recall: 0.9414\n",
      "Epoch 8/10\n",
      "32/32 [==============================] - 0s 2ms/step - loss: 0.1769 - accuracy: 0.9488 - precision: 0.9562 - recall: 0.9275\n",
      "Epoch 9/10\n",
      "32/32 [==============================] - 0s 2ms/step - loss: 0.0634 - accuracy: 0.9744 - precision: 0.9827 - recall: 0.9590\n",
      "Epoch 10/10\n",
      "32/32 [==============================] - 0s 2ms/step - loss: 0.0449 - accuracy: 0.9821 - precision: 0.9801 - recall: 0.9791\n"
     ]
    }
   ],
   "source": [
    "train_ds = np.asarray(v)\n",
    "train_labels = np.asarray(labels)\n",
    "\n",
    "model = tf.keras.Sequential([\n",
    "    tf.keras.layers.Dense(128, activation='relu'),\n",
    "    tf.keras.layers.Dense(256, activation='relu'),\n",
    "    tf.keras.layers.Dense(256, activation='relu'),\n",
    "    tf.keras.layers.Dense(1, activation='sigmoid')\n",
    "])\n",
    "\n",
    "model.compile(\n",
    "    loss=tf.keras.losses.binary_crossentropy,\n",
    "    optimizer=tf.keras.optimizers.Adam(lr=0.03),\n",
    "    metrics=[\n",
    "        tf.keras.metrics.BinaryAccuracy(name='accuracy'),\n",
    "        tf.keras.metrics.Precision(name='precision'),\n",
    "        tf.keras.metrics.Recall(name='recall')\n",
    "    ]\n",
    ")\n",
    "\n",
    "history = model.fit(train_ds, train_labels, epochs=10)"
   ]
  },
  {
   "cell_type": "code",
   "execution_count": 683,
   "metadata": {},
   "outputs": [],
   "source": [
    "def query_simple_model(node):\n",
    "    query = node.reshape(1, -1)\n",
    "    pred = round(model.predict(query)[0,0])\n",
    "    return pred"
   ]
  },
  {
   "cell_type": "code",
   "execution_count": 407,
   "metadata": {
    "scrolled": true
   },
   "outputs": [
    {
     "data": {
      "image/png": "[encoded data removed]",
      "text/plain": [
       "<Figure size 360x360 with 1 Axes>"
      ]
     },
     "metadata": {
      "needs_background": "light"
     },
     "output_type": "display_data"
    }
   ],
   "source": [
    "#Every prediction made by model\n",
    "fig, ax = plt.subplots(figsize = (5, 5))\n",
    "steps = np.arange(-2,2,0.25)\n",
    "for i in steps:\n",
    "    for j in steps:\n",
    "        pred = query_simple_model(np.asarray([i,j]))\n",
    "        if pred == 1:\n",
    "            plt.plot(i,j,'bo')\n",
    "        else:\n",
    "            plt.plot(i,j,'r+')"
   ]
  },
  {
   "cell_type": "markdown",
   "metadata": {},
   "source": [
    "Generate random vectors from source node and use to find k point-distance heuristics to perform informed search from toward source\n",
    "----"
   ]
  },
  {
   "cell_type": "code",
   "execution_count": 456,
   "metadata": {
    "scrolled": true
   },
   "outputs": [
    {
     "data": {
      "image/png": "[encoded data removed]",
      "text/plain": [
       "<Figure size 360x360 with 1 Axes>"
      ]
     },
     "metadata": {
      "needs_background": "light"
     },
     "output_type": "display_data"
    }
   ],
   "source": [
    "def generate_unit_vectors(nfeats,nvectors):\n",
    "    \n",
    "    vectors = []\n",
    "    for _ in range(nvectors):\n",
    "        v = np.random.uniform(low=-1, high=1, size=(nfeats,))\n",
    "        v_hat = v / np.linalg.norm(v)\n",
    "        vectors.append(v_hat)\n",
    "    return vectors\n",
    "\n",
    "vectors = generate_unit_vectors(2,20)\n",
    " \n",
    "# Creating plot\n",
    "fig, ax = plt.subplots(figsize = (5, 5))\n",
    "for v in vectors:\n",
    "    ax.quiver(0, 0, v[0],v[1],scale=2)\n",
    "ax.set_title('Quiver plot with one arrow')\n",
    " \n",
    "# Show plot\n",
    "plt.ylim(-1,1)\n",
    "plt.xlim(-1,1)\n",
    "plt.show()"
   ]
  },
  {
   "cell_type": "code",
   "execution_count": 482,
   "metadata": {
    "scrolled": false
   },
   "outputs": [
    {
     "data": {
      "image/png": "[encoded data removed]",
      "text/plain": [
       "<Figure size 432x288 with 1 Axes>"
      ]
     },
     "metadata": {
      "needs_background": "light"
     },
     "output_type": "display_data"
    }
   ],
   "source": [
    "# sum(block distance) would be more efficent at scale, avoiding sqrt and squares\n",
    "#returns distance for ndim feature space\n",
    "def get_distance(source_node,query_node):\n",
    "    dif = query_node - source_node\n",
    "    dsum = 0\n",
    "    for feat in dif:\n",
    "        dsum += feat**2\n",
    "    return math.sqrt(dsum)\n",
    "\n",
    "\n",
    "def generate_precursor_solutions(source_node,k=20,nsteps=6,plot_search=False,max_distance=10):\n",
    "\n",
    "    max_distance = 10 #use training set statistics to determine\n",
    "    step_size = int(max_distance/nsteps)\n",
    "    steps = np.arange(step_size,max_distance,step_size)\n",
    "    source_rec = query_simple_model(source_node)\n",
    "    \n",
    "    if plot_search:\n",
    "        plt.plot(source_feats[0],source_feats[1],'r+')\n",
    "\n",
    "    discovered = {}\n",
    "\n",
    "    while len(discovered) < k:\n",
    "        unit_vector = generate_unit_vectors(len(source_node),1)[0]\n",
    "        for step in steps:\n",
    "            scaled_vector = np.asarray(unit_vector * step + source_node)\n",
    "            query_rec = query_simple_model(scaled_vector)\n",
    "            \n",
    "            if plot_search:\n",
    "                if query_rec == source_rec:\n",
    "                    plt.plot(scaled_vector[0],scaled_vector[1],'bo')\n",
    "                else:\n",
    "                    plt.plot(scaled_vector[0],scaled_vector[1],'y^')\n",
    "            \n",
    "            if source_rec != query_rec:\n",
    "\n",
    "                discovered[tuple(scaled_vector)] = get_distance(source_node,scaled_vector) # distance heuristic\n",
    "                break\n",
    "    \n",
    "    return discovered\n",
    "                \n",
    "source_node = np.asarray([0,0])\n",
    "max_distance = 10\n",
    "prelim_discovered = generate_precursor_solutions(source_node,plot_search=True,max_distance=max_distance)"
   ]
  },
  {
   "cell_type": "markdown",
   "metadata": {},
   "source": [
    "Blue dots indicate points in uniform vectors from the source recommendation that have not yet resulted in a model.predict() of the opposite value of the source node's prediction, while yellow triangles indicate the position resulting in an opposite prediction than the source node."
   ]
  },
  {
   "cell_type": "markdown",
   "metadata": {},
   "source": [
    "A* Search from k discovered uniformly distributed solutions\n",
    "----"
   ]
  },
  {
   "cell_type": "code",
   "execution_count": 470,
   "metadata": {},
   "outputs": [],
   "source": [
    "class Node:\n",
    "    def __init__(self, position, f_cost):\n",
    "        \n",
    "        #Position list([row, column])\n",
    "        self.position = list(position) # [n1, n2, ..., n|N|]\n",
    "        self.f_cost = f_cost #Distance for evaluation function to compare nodes in priority queue\n",
    "        \n",
    "  # Nodes with the same f_cost\n",
    "    def __eq__(self, other):\n",
    "        return isinstance(other, Node) and self.f_cost == other.f_cost\n",
    "  \n",
    "    # Node is less than other node\n",
    "    def __lt__(self, other):\n",
    "        return isinstance(other, Node) and self.f_cost < other.f_cost\n",
    "\n",
    "    # Node is greater than other node\n",
    "    def __gt__(self, other):\n",
    "        return isinstance(other, Node) and self.f_cost > other.f_cost"
   ]
  },
  {
   "cell_type": "code",
   "execution_count": 558,
   "metadata": {},
   "outputs": [],
   "source": [
    "#TODO: Adapative gradient to make largest jumps in k-closest solutions first\n",
    "def find_priority_adjs(node,learning_rate=0.1):\n",
    "    \n",
    "    adj_nodes = []\n",
    "    for dim in range(len(node)):\n",
    "        temp = node.copy()\n",
    "        temp[dim] = temp[dim] + learning_rate\n",
    "        adj_nodes.append(temp)\n",
    "        temp = node.copy()\n",
    "        temp[dim] = temp[dim] - learning_rate\n",
    "        adj_nodes.append(temp)\n",
    "    return adj_nodes\n",
    "\n",
    "\n",
    "def a_star_search(source_node, prelim_discovered, max_distance,k=100,learning_rate=0.1):\n",
    "    \n",
    "    #Analytics to inform how to handle degree of branching\n",
    "    nodes_generated = 0\n",
    "    nodes_visited = 0\n",
    "    \n",
    "    frontier = [] # Priority Queue\n",
    "    discovered = [] #Vector of k-closest feature interactions to opposite recommendation\n",
    "    visited = {} # True corresponds to visited for low complexity \"visited\" search\n",
    "    \n",
    "    #Add solutions from uniformly distributed vectors to priority queue (frontier)\n",
    "    for position in prelim_discovered:\n",
    "        cur = Node(position, prelim_discovered[position]) #(Node.position, Node.f_cost)\n",
    "        heapq.heappush(frontier, cur)\n",
    "        nodes_generated += 1\n",
    "    \n",
    "    source_rec = query_simple_model(source_node) #rec value to be explained\n",
    "     \n",
    "    # loop till queue is empty, or k solutions were discovered\n",
    "    #TODO: Want to define stop criteria based on no solutions approaching center\n",
    "    while frontier and len(discovered) < k:\n",
    " \n",
    "        # dequeue front node\n",
    "        query_node = heapq.heappop(frontier)\n",
    "        #print(node, end=' ')\n",
    "        nodes_visited += 1\n",
    "        \n",
    "        #Check goal state\n",
    "        query_rec = query_simple_model(np.asarray(query_node.position))\n",
    "        if query_rec != source_rec:\n",
    "            discovered.append(query_node)\n",
    "            heapq.heappush(discovered, query_node) #priority queue so discovered is sorted by feature importance\n",
    "            print(\"soln:\",query_node.position)\n",
    " \n",
    "        #TODO: Want to add these to priority queue before visiting them\n",
    "        adjs = find_priority_adjs(query_node.position,learning_rate) #every node adjacent to the current node\n",
    "        for adj_node in adjs:\n",
    "            \n",
    "            in_bfet = True\n",
    "            for i in range(len(adj_node)):\n",
    "                if adj_node[i] >= max_distance or adj_node[i] <= -1*max_distance:\n",
    "                    in_bfet = False\n",
    "            \n",
    "            if in_bfet and tuple(adj_node) not in visited.keys():\n",
    "                \n",
    "                cur_adj = Node(adj_node, get_distance(source_node,adj_node))\n",
    "                heapq.heappush(frontier, cur_adj)\n",
    "                visited[tuple(adj_node)] = True\n",
    "                nodes_generated += 1\n",
    "    \n",
    "    print(\"Nodes Visited:\",nodes_visited)\n",
    "    print(\"Nodes Generated:\",nodes_generated)\n",
    "    print(\"Visited Length:\",len(visited))\n",
    "\n",
    "    return discovered"
   ]
  },
  {
   "cell_type": "code",
   "execution_count": 559,
   "metadata": {
    "scrolled": false
   },
   "outputs": [
    {
     "name": "stdout",
     "output_type": "stream",
     "text": [
      "soln: [-4.171768865617628, 2.7561466818483034]\n",
      "soln: [-3.6717688656176284, 2.7561466818483034]\n",
      "soln: [-3.1717688656176284, 2.7561466818483034]\n",
      "soln: [-2.6717688656176284, 2.7561466818483034]\n",
      "soln: [-2.6717688656176284, 2.2561466818483034]\n",
      "soln: [-2.1717688656176284, 2.2561466818483034]\n",
      "soln: [0.8282311343823716, -0.7438533181516966]\n",
      "soln: [0.8282311343823716, 0.7561466818483034]\n",
      "soln: [-0.17176886561762839, -1.2438533181516966]\n",
      "soln: [-0.17176886561762839, 1.2561466818483034]\n",
      "soln: [0.3282311343823716, -1.2438533181516966]\n",
      "soln: [0.3282311343823716, 1.2561466818483034]\n",
      "soln: [1.3282311343823716, -0.24385331815169664]\n",
      "soln: [1.3282311343823716, 0.25614668184830336]\n",
      "soln: [0.8282311343823716, -1.2438533181516966]\n",
      "Nodes Visited: 39\n",
      "Nodes Generated: 71\n",
      "Visited Length: 70\n"
     ]
    },
    {
     "data": {
      "image/png": "[encoded data removed]",
      "text/plain": [
       "<Figure size 360x360 with 1 Axes>"
      ]
     },
     "metadata": {
      "needs_background": "light"
     },
     "output_type": "display_data"
    }
   ],
   "source": [
    "np.random.seed(7)\n",
    "source_node = np.asarray([0,0])\n",
    "max_distance = 10\n",
    "fig, ax = plt.subplots(figsize = (5, 5))\n",
    "\n",
    "prelim_discovered = generate_precursor_solutions(source_node,k=1,plot_search=True,max_distance=max_distance)\n",
    "discovered = a_star_search(source_node, prelim_discovered, max_distance,k=30,learning_rate=0.5)\n",
    "\n",
    "for point in discovered:\n",
    "    plt.plot(point.position[0],point.position[1],'cD')"
   ]
  },
  {
   "cell_type": "code",
   "execution_count": 644,
   "metadata": {
    "scrolled": true
   },
   "outputs": [
    {
     "data": {
      "image/png": "[encoded data removed]",
      "text/plain": [
       "<Figure size 432x288 with 1 Axes>"
      ]
     },
     "metadata": {
      "needs_background": "light"
     },
     "output_type": "display_data"
    }
   ],
   "source": [
    "plt.plot(source_feats[0],source_feats[1],'r+')\n",
    "for point in discovered[:60]:\n",
    "    #print(point.f_cost)\n",
    "    plt.plot(point.position[0],point.position[1],'cD')"
   ]
  },
  {
   "cell_type": "markdown",
   "metadata": {},
   "source": [
    "Constraints\n",
    "-"
   ]
  },
  {
   "cell_type": "markdown",
   "metadata": {},
   "source": [
    "TODO: <br> \n",
    "-Model predicts negative most of the time, likely due to lack of important catgorical features --> use embedding vectors <br>\n",
    "-access embedding vectors from DeepFM to use in GDFEST <br>\n",
    "-project embedding vectors to m dimensional space <br>\n",
    "-create model to convert categorical features from one hot encoding to embedding vector so that it can be searched in continuous space, then when the step is made project the embedding vector back to one hot encoding so that deepFM can query a predicition with it (for a given feature, a step will push a category to an adjacent category further away from the source node category) <br>\n",
    "-find the distribution of each feature from the training data + embeddings to be able to make even steps in each feature direction to preserve the relative step distance, by using the range from min to max distance <br>\n",
    "-add implications section to paper about how explainability can be used, i.e. query explainability on every training data point that was incorrect, then generate synthetic data to push the decision boundary in feature space toward the correct rec/prediction <br>\n",
    "-add nsphere distribution citation to background <br>"
   ]
  },
  {
   "cell_type": "markdown",
   "metadata": {},
   "source": [
    "Its likely that most integer features in recommendation systems will not be continous in space (user id, item_id, occupation) <br>\n",
    "\n",
    "Continuous/low dim features: release_date, age, height, weight, gender, location (x,y), rating, timestamp <br>\n",
    "\n",
    "Must normalize step size for each feature/dimension, such that the step in one dimension changes the value of another dimension by an equal magnitude in terms of the maximum number of values available to each respective dimension"
   ]
  },
  {
   "cell_type": "markdown",
   "metadata": {},
   "source": [
    "Calculate Training Data Distribution\n",
    "---"
   ]
  },
  {
   "cell_type": "code",
   "execution_count": 600,
   "metadata": {},
   "outputs": [],
   "source": [
    "DeepFM_model = load_model('../models/DeepFM-01.h5',custom_objects)# load_model,just add a parameter\n",
    "#DeepFM_model.summary()"
   ]
  },
  {
   "cell_type": "code",
   "execution_count": 646,
   "metadata": {},
   "outputs": [
    {
     "data": {
      "text/plain": [
       "(13, 3)"
      ]
     },
     "execution_count": 646,
     "metadata": {},
     "output_type": "execute_result"
    }
   ],
   "source": [
    "#Distribution for integer features\n",
    "num_data_distrib = []\n",
    "for feat in dense_features:\n",
    "    feature = data[feat]\n",
    "    #num_data_distrib.append([feature.min(), feature.max(), np.std(feature), feature.mean()])\n",
    "    num_data_distrib.append([feature.min(), feature.max(), feature.max() - feature.min()])\n",
    "    \n",
    "np.asarray(num_data_distrib).shape\n",
    "#I1-13 int features, 4 statistical values of each int feature"
   ]
  },
  {
   "cell_type": "code",
   "execution_count": 647,
   "metadata": {},
   "outputs": [
    {
     "data": {
      "text/plain": [
       "(26, 4, 3)"
      ]
     },
     "execution_count": 647,
     "metadata": {},
     "output_type": "execute_result"
    }
   ],
   "source": [
    "#Distribution for categorical feature embeddings\n",
    "cat_data_distrib = []\n",
    "for category in sparse_features:\n",
    "    layer = 'sparse_emb_' + category\n",
    "    weights = model.get_layer(layer).get_weights()[0]\n",
    "    local_cat_data_distrib = []\n",
    "    for col in weights.T:\n",
    "        #local_cat_data_distrib.append([col.min(), col.max(), np.std(col), col.mean()])\n",
    "        local_cat_data_distrib.append([col.min(), col.max(), col.max() - col.min()])\n",
    "    cat_data_distrib.append(local_cat_data_distrib)\n",
    "    #Min, Max, Std for each dimension of each feature's embedding vector\n",
    "    \n",
    "np.asarray(cat_data_distrib).shape\n",
    "#C1-26 cat features, 4 embedding dimensions, 4 statistical values of each embedding dim\n",
    "#Returns range in 3rd index"
   ]
  },
  {
   "cell_type": "code",
   "execution_count": 657,
   "metadata": {
    "scrolled": true
   },
   "outputs": [
    {
     "name": "stdout",
     "output_type": "stream",
     "text": [
      "[1.209000e+03 1.852500e+04 6.553500e+04 5.610000e+02 2.539061e+06\n",
      " 2.335230e+05 2.629700e+04 5.064000e+03 1.932700e+04 8.000000e+00\n",
      " 1.550000e+02 1.286000e+03 6.879000e+03]\n",
      "[8.27129859e-04 5.39811066e-05 1.52590219e-05 1.78253119e-03\n",
      " 3.93846387e-07 4.28223344e-06 3.80271514e-05 1.97472354e-04\n",
      " 5.17410876e-05 1.25000000e-01 6.45161290e-03 7.77604977e-04\n",
      " 1.45369967e-04]\n"
     ]
    }
   ],
   "source": [
    "int_feat_ranges = []\n",
    "for feat in num_data_distrib:\n",
    "    int_feat_ranges.append(feat[2])\n",
    "int_feat_ranges = np.asarray(int_feat_ranges)\n",
    "print(int_feat_ranges)\n",
    "int_feat_scaler = 1/int_feat_ranges\n",
    "print(int_feat_scaler)"
   ]
  },
  {
   "cell_type": "code",
   "execution_count": 660,
   "metadata": {},
   "outputs": [
    {
     "data": {
      "text/plain": [
       "array([   120,   1852,   6553,     56, 253906,  23352,   2629,    506,\n",
       "         1932,      0,     15,    128,    687])"
      ]
     },
     "execution_count": 660,
     "metadata": {},
     "output_type": "execute_result"
    }
   ],
   "source": [
    "(int_feat_ranges/10).astype(int)"
   ]
  },
  {
   "cell_type": "markdown",
   "metadata": {},
   "source": [
    "SCALED: Precursor Solution Vector Step Search\n",
    "----"
   ]
  },
  {
   "cell_type": "code",
   "execution_count": 703,
   "metadata": {
    "scrolled": true
   },
   "outputs": [
    {
     "data": {
      "image/png": "[encoded data removed]",
      "text/plain": [
       "<Figure size 432x288 with 1 Axes>"
      ]
     },
     "metadata": {
      "needs_background": "light"
     },
     "output_type": "display_data"
    }
   ],
   "source": [
    "# sum(block distance) would be more efficent at scale, avoiding sqrt and squares\n",
    "#returns distance for ndim feature space\n",
    "def get_distance(source_node,query_node,int_feat_scaler):\n",
    "    dif = query_node - source_node\n",
    "    scaled_dif = dif / int_feat_scaler\n",
    "    dsum = 0\n",
    "    for feat in dif:\n",
    "        dsum += feat**2\n",
    "    return math.sqrt(dsum)\n",
    "\n",
    "\n",
    "def generate_precursor_solutions(source_node,int_feat_ranges,k=20,nsteps=6,plot_search=False):\n",
    "\n",
    "    step_sizes = (int_feat_ranges/nsteps).astype(int) #How large of a step to take for each respective int feature\n",
    "    int_feat_scaler = 1/np.asarray(int_feat_ranges) #Scale to normalize feature step size when calculating distance\n",
    "    \n",
    "    feat_steps = []\n",
    "    for feat in range(len(int_feat_ranges)):\n",
    "        feat_steps.append(np.arange(step_sizes[feat],int_feat_ranges[feat],step_sizes[feat]))\n",
    "    feat_steps = np.asarray(feat_steps)\n",
    "    \n",
    "    source_rec = query_simple_model(source_node)\n",
    "    \n",
    "    if plot_search:\n",
    "        plt.plot(source_feats[0],source_feats[1],'r+')\n",
    "\n",
    "    discovered = {}\n",
    "\n",
    "    while len(discovered) < k:\n",
    "        unit_vector = generate_unit_vectors(len(source_node),1)[0]\n",
    "        for step in range(nsteps-1):\n",
    "            scaled_vector = np.asarray(unit_vector * feat_steps.T[step] + source_node)\n",
    "            query_rec = query_simple_model(scaled_vector)\n",
    "            \n",
    "            if plot_search:\n",
    "                if query_rec == source_rec:\n",
    "                    plt.plot(scaled_vector[0],scaled_vector[1],'bo')\n",
    "                else:\n",
    "                    plt.plot(scaled_vector[0],scaled_vector[1],'y^')\n",
    "            \n",
    "            if source_rec != query_rec:\n",
    "                # distance heuristic\n",
    "                discovered[tuple(scaled_vector)] = get_distance(source_node,scaled_vector,int_feat_scaler)\n",
    "                break\n",
    "    \n",
    "    return discovered\n",
    "                \n",
    "source_node = np.asarray([0,0])\n",
    "int_feat_ranges = np.asarray([10,10])\n",
    "prelim_discovered = generate_precursor_solutions(source_node,int_feat_ranges,plot_search=True,nsteps=10)"
   ]
  },
  {
   "cell_type": "markdown",
   "metadata": {},
   "source": [
    "SCALED: A* Search from k discovered uniformly distributed solutions\n",
    "----"
   ]
  },
  {
   "cell_type": "code",
   "execution_count": 718,
   "metadata": {},
   "outputs": [],
   "source": [
    "#TODO: Adapative gradient to make largest jumps in k-closest solutions in beginning, then lower over time\n",
    "def find_priority_adjs(node, int_feat_scaler, learning_rate):\n",
    "    \n",
    "    adj_nodes = []\n",
    "    for dim in range(len(node)):\n",
    "        temp = node.copy()\n",
    "        temp[dim] = temp[dim] + learning_rate / int_feat_scaler[dim]\n",
    "        adj_nodes.append(temp)\n",
    "        temp = node.copy()\n",
    "        temp[dim] = temp[dim] - learning_rate / int_feat_scaler[dim]\n",
    "        adj_nodes.append(temp)\n",
    "    return adj_nodes\n",
    "\n",
    "\n",
    "def a_star_search(source_node, prelim_discovered, int_feat_ranges, k=100, learning_rate=0.25):\n",
    "    \n",
    "    #Analytics to inform how to handle degree of branching\n",
    "    nodes_generated = 0\n",
    "    nodes_visited = 0\n",
    "    \n",
    "    frontier = [] # Priority Queue\n",
    "    discovered = [] #Vector of k-closest feature interactions to opposite recommendation\n",
    "    visited = {} # True corresponds to visited for low complexity \"visited\" search\n",
    "    \n",
    "    #Add solutions from uniformly distributed vectors to priority queue (frontier)\n",
    "    for position in prelim_discovered:\n",
    "        cur = Node(position, prelim_discovered[position]) #(Node.position, Node.f_cost)\n",
    "        heapq.heappush(frontier, cur)\n",
    "        nodes_generated += 1\n",
    "        \n",
    "    #Scale to normalize learning rate for each feature\n",
    "    int_feat_scaler = 1/np.asarray(int_feat_ranges)\n",
    "    \n",
    "    source_rec = query_simple_model(source_node) #rec value to be explained\n",
    "     \n",
    "    # loop till queue is empty, or k solutions were discovered\n",
    "    #TODO: Want to define stop criteria based on no solutions approaching center\n",
    "    while frontier and len(discovered) < k:\n",
    " \n",
    "        # dequeue front node\n",
    "        query_node = heapq.heappop(frontier)\n",
    "        #print(node, end=' ')\n",
    "        nodes_visited += 1\n",
    "        \n",
    "        #Check goal state\n",
    "        query_rec = query_simple_model(np.asarray(query_node.position))\n",
    "        if query_rec != source_rec:\n",
    "            discovered.append(query_node)\n",
    "            heapq.heappush(discovered, query_node) #priority queue so discovered is sorted by feature importance\n",
    "            #print(\"soln:\",query_node.position)\n",
    " \n",
    "        #TODO: Want to add these to priority queue before visiting them\n",
    "        adjs = find_priority_adjs(query_node.position, int_feat_ranges, learning_rate) #every node adjacent to the current node\n",
    "        for adj_node in adjs:\n",
    "            \n",
    "            in_bfet = True\n",
    "            for i in range(len(adj_node)):\n",
    "                if adj_node[i] >= int_feat_ranges[i] or adj_node[i] <= -1*int_feat_ranges[i]:\n",
    "                    in_bfet = False\n",
    "            \n",
    "            if in_bfet and tuple(adj_node) not in visited.keys():\n",
    "                \n",
    "                cur_adj = Node(adj_node, get_distance(source_node, adj_node, int_feat_scaler))\n",
    "                heapq.heappush(frontier, cur_adj)\n",
    "                visited[tuple(adj_node)] = True\n",
    "                nodes_generated += 1\n",
    "    \n",
    "    print(\"Nodes Visited:\",nodes_visited)\n",
    "    print(\"Nodes Generated:\",nodes_generated)\n",
    "    print(\"Visited Length:\",len(visited))\n",
    "\n",
    "    return discovered"
   ]
  },
  {
   "cell_type": "code",
   "execution_count": 719,
   "metadata": {},
   "outputs": [
    {
     "name": "stdout",
     "output_type": "stream",
     "text": [
      "Nodes Visited: 254\n",
      "Nodes Generated: 415\n",
      "Visited Length: 395\n"
     ]
    },
    {
     "data": {
      "image/png": "[encoded data removed]",
      "text/plain": [
       "<Figure size 360x360 with 1 Axes>"
      ]
     },
     "metadata": {
      "needs_background": "light"
     },
     "output_type": "display_data"
    }
   ],
   "source": [
    "np.random.seed(7)\n",
    "source_node = np.asarray([0,0])\n",
    "int_feat_ranges = np.asarray([10,10])\n",
    "fig, ax = plt.subplots(figsize = (5, 5))\n",
    "\n",
    "prelim_discovered = generate_precursor_solutions(source_node,int_feat_ranges,plot_search=True,nsteps=10)\n",
    "discovered = a_star_search(source_node, prelim_discovered, int_feat_ranges,k=100,learning_rate=5)\n",
    "\n",
    "for point in discovered:\n",
    "    plt.plot(point.position[0],point.position[1],'cD')"
   ]
  },
  {
   "cell_type": "markdown",
   "metadata": {},
   "source": [
    "DeepFM Input Layer Replaced by Generated Embedding Vector\n",
    "-"
   ]
  },
  {
   "cell_type": "code",
   "execution_count": 721,
   "metadata": {
    "scrolled": false
   },
   "outputs": [],
   "source": [
    "DeepFM_model = load_model('../models/DeepFM-01.h5',custom_objects)# load_model,just add a parameter\n",
    "#DeepFM_model.summary()"
   ]
  },
  {
   "cell_type": "code",
   "execution_count": null,
   "metadata": {},
   "outputs": [],
   "source": []
  }
 ],
 "metadata": {
  "kernelspec": {
   "display_name": "Python 3",
   "language": "python",
   "name": "python3"
  },
  "language_info": {
   "codemirror_mode": {
    "name": "ipython",
    "version": 3
   },
   "file_extension": ".py",
   "mimetype": "text/x-python",
   "name": "python",
   "nbconvert_exporter": "python",
   "pygments_lexer": "ipython3",
   "version": "3.7.6"
  }
 },
 "nbformat": 4,
 "nbformat_minor": 4
}
